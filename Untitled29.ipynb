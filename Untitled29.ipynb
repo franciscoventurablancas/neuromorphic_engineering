{
  "nbformat": 4,
  "nbformat_minor": 0,
  "metadata": {
    "colab": {
      "name": "Untitled29.ipynb",
      "provenance": []
    },
    "kernelspec": {
      "name": "python3",
      "display_name": "Python 3"
    },
    "language_info": {
      "name": "python"
    }
  },
  "cells": [
    {
      "cell_type": "code",
      "metadata": {
        "colab": {
          "base_uri": "https://localhost:8080/"
        },
        "id": "npXWNnJLBRhB",
        "outputId": "8a9ee24c-ffb1-4342-b74f-74c16496c9cd"
      },
      "source": [
        "!pip install nengo"
      ],
      "execution_count": 1,
      "outputs": [
        {
          "output_type": "stream",
          "name": "stdout",
          "text": [
            "Collecting nengo\n",
            "  Downloading nengo-3.1.0-py3-none-any.whl (523 kB)\n",
            "\u001b[?25l\r\u001b[K     |▋                               | 10 kB 23.4 MB/s eta 0:00:01\r\u001b[K     |█▎                              | 20 kB 28.6 MB/s eta 0:00:01\r\u001b[K     |█▉                              | 30 kB 29.3 MB/s eta 0:00:01\r\u001b[K     |██▌                             | 40 kB 23.5 MB/s eta 0:00:01\r\u001b[K     |███▏                            | 51 kB 15.3 MB/s eta 0:00:01\r\u001b[K     |███▊                            | 61 kB 12.1 MB/s eta 0:00:01\r\u001b[K     |████▍                           | 71 kB 13.5 MB/s eta 0:00:01\r\u001b[K     |█████                           | 81 kB 15.0 MB/s eta 0:00:01\r\u001b[K     |█████▋                          | 92 kB 14.7 MB/s eta 0:00:01\r\u001b[K     |██████▎                         | 102 kB 14.7 MB/s eta 0:00:01\r\u001b[K     |██████▉                         | 112 kB 14.7 MB/s eta 0:00:01\r\u001b[K     |███████▌                        | 122 kB 14.7 MB/s eta 0:00:01\r\u001b[K     |████████▏                       | 133 kB 14.7 MB/s eta 0:00:01\r\u001b[K     |████████▊                       | 143 kB 14.7 MB/s eta 0:00:01\r\u001b[K     |█████████▍                      | 153 kB 14.7 MB/s eta 0:00:01\r\u001b[K     |██████████                      | 163 kB 14.7 MB/s eta 0:00:01\r\u001b[K     |██████████▋                     | 174 kB 14.7 MB/s eta 0:00:01\r\u001b[K     |███████████▎                    | 184 kB 14.7 MB/s eta 0:00:01\r\u001b[K     |████████████                    | 194 kB 14.7 MB/s eta 0:00:01\r\u001b[K     |████████████▌                   | 204 kB 14.7 MB/s eta 0:00:01\r\u001b[K     |█████████████▏                  | 215 kB 14.7 MB/s eta 0:00:01\r\u001b[K     |█████████████▊                  | 225 kB 14.7 MB/s eta 0:00:01\r\u001b[K     |██████████████▍                 | 235 kB 14.7 MB/s eta 0:00:01\r\u001b[K     |███████████████                 | 245 kB 14.7 MB/s eta 0:00:01\r\u001b[K     |███████████████▋                | 256 kB 14.7 MB/s eta 0:00:01\r\u001b[K     |████████████████▎               | 266 kB 14.7 MB/s eta 0:00:01\r\u001b[K     |█████████████████               | 276 kB 14.7 MB/s eta 0:00:01\r\u001b[K     |█████████████████▌              | 286 kB 14.7 MB/s eta 0:00:01\r\u001b[K     |██████████████████▏             | 296 kB 14.7 MB/s eta 0:00:01\r\u001b[K     |██████████████████▉             | 307 kB 14.7 MB/s eta 0:00:01\r\u001b[K     |███████████████████▍            | 317 kB 14.7 MB/s eta 0:00:01\r\u001b[K     |████████████████████            | 327 kB 14.7 MB/s eta 0:00:01\r\u001b[K     |████████████████████▋           | 337 kB 14.7 MB/s eta 0:00:01\r\u001b[K     |█████████████████████▎          | 348 kB 14.7 MB/s eta 0:00:01\r\u001b[K     |██████████████████████          | 358 kB 14.7 MB/s eta 0:00:01\r\u001b[K     |██████████████████████▌         | 368 kB 14.7 MB/s eta 0:00:01\r\u001b[K     |███████████████████████▏        | 378 kB 14.7 MB/s eta 0:00:01\r\u001b[K     |███████████████████████▉        | 389 kB 14.7 MB/s eta 0:00:01\r\u001b[K     |████████████████████████▍       | 399 kB 14.7 MB/s eta 0:00:01\r\u001b[K     |█████████████████████████       | 409 kB 14.7 MB/s eta 0:00:01\r\u001b[K     |█████████████████████████▊      | 419 kB 14.7 MB/s eta 0:00:01\r\u001b[K     |██████████████████████████▎     | 430 kB 14.7 MB/s eta 0:00:01\r\u001b[K     |███████████████████████████     | 440 kB 14.7 MB/s eta 0:00:01\r\u001b[K     |███████████████████████████▌    | 450 kB 14.7 MB/s eta 0:00:01\r\u001b[K     |████████████████████████████▏   | 460 kB 14.7 MB/s eta 0:00:01\r\u001b[K     |████████████████████████████▉   | 471 kB 14.7 MB/s eta 0:00:01\r\u001b[K     |█████████████████████████████▍  | 481 kB 14.7 MB/s eta 0:00:01\r\u001b[K     |██████████████████████████████  | 491 kB 14.7 MB/s eta 0:00:01\r\u001b[K     |██████████████████████████████▊ | 501 kB 14.7 MB/s eta 0:00:01\r\u001b[K     |███████████████████████████████▎| 512 kB 14.7 MB/s eta 0:00:01\r\u001b[K     |████████████████████████████████| 522 kB 14.7 MB/s eta 0:00:01\r\u001b[K     |████████████████████████████████| 523 kB 14.7 MB/s \n",
            "\u001b[?25hRequirement already satisfied: numpy>=1.13 in /usr/local/lib/python3.7/dist-packages (from nengo) (1.19.5)\n",
            "Installing collected packages: nengo\n",
            "Successfully installed nengo-3.1.0\n"
          ]
        }
      ]
    },
    {
      "cell_type": "code",
      "metadata": {
        "id": "6ntiQr0RBWwd"
      },
      "source": [
        "%matplotlib inline\n",
        "import matplotlib.pyplot as plt\n",
        "\n",
        "import nengo"
      ],
      "execution_count": 2,
      "outputs": []
    },
    {
      "cell_type": "code",
      "metadata": {
        "id": "nm23i4A7BcAP"
      },
      "source": [
        "# Create the model object\n",
        "model = nengo.Network(label=\"Addition\")\n",
        "with model:\n",
        "    # Create 3 ensembles each containing 100 leaky integrate-and-fire neurons\n",
        "    A = nengo.Ensemble(100, dimensions=1)\n",
        "    B = nengo.Ensemble(100, dimensions=1)\n",
        "    C = nengo.Ensemble(100, dimensions=1)"
      ],
      "execution_count": 3,
      "outputs": []
    },
    {
      "cell_type": "code",
      "metadata": {
        "id": "PANLVkcnBfh3"
      },
      "source": [
        "with model:\n",
        "    # Create input nodes representing constant values\n",
        "    input_a = nengo.Node(output=0.5)\n",
        "    input_b = nengo.Node(output=0.3)\n",
        "\n",
        "    # Connect the input nodes to the appropriate ensembles\n",
        "    nengo.Connection(input_a, A)\n",
        "    nengo.Connection(input_b, B)\n",
        "\n",
        "    # Connect input ensembles A and B to output ensemble C\n",
        "    nengo.Connection(A, C)\n",
        "    nengo.Connection(B, C)"
      ],
      "execution_count": 4,
      "outputs": []
    },
    {
      "cell_type": "code",
      "metadata": {
        "id": "XCIMdmrQBjMd"
      },
      "source": [
        "with model:\n",
        "    input_a_probe = nengo.Probe(input_a)\n",
        "    input_b_probe = nengo.Probe(input_b)\n",
        "    A_probe = nengo.Probe(A, synapse=0.01)\n",
        "    B_probe = nengo.Probe(B, synapse=0.01)\n",
        "    C_probe = nengo.Probe(C, synapse=0.01)"
      ],
      "execution_count": 5,
      "outputs": []
    },
    {
      "cell_type": "code",
      "metadata": {
        "colab": {
          "base_uri": "https://localhost:8080/",
          "height": 75
        },
        "id": "_luMx_29BmkB",
        "outputId": "adf959b3-a5df-4a55-a067-dcc64515683d"
      },
      "source": [
        "# Create the simulator\n",
        "with nengo.Simulator(model) as sim:\n",
        "    # Run it for 5 seconds\n",
        "    sim.run(5)"
      ],
      "execution_count": 6,
      "outputs": [
        {
          "output_type": "display_data",
          "data": {
            "application/vdom.v1+json": {
              "attributes": {},
              "tagName": "div"
            },
            "text/plain": [
              "HtmlProgressBar cannot be displayed. Please use the TerminalProgressBar. It can be enabled with `nengo.rc['progress']['progress_bar'] = 'nengo.utils.progress.TerminalProgressBar'`."
            ],
            "text/html": [
              "\n",
              "                <script>\n",
              "                    if (Jupyter.version.split(\".\")[0] < 5) {\n",
              "                        var pb = document.getElementById(\"8b9c30ed-8239-4834-b8d9-74ee5e23495d\");\n",
              "                        var text = document.createTextNode(\n",
              "                            \"HMTL progress bar requires Jupyter Notebook >= \" +\n",
              "                            \"5.0 or Jupyter Lab. Alternatively, you can use \" +\n",
              "                            \"TerminalProgressBar().\");\n",
              "                        pb.parentNode.insertBefore(text, pb);\n",
              "                    }\n",
              "                </script>\n",
              "                <div id=\"8b9c30ed-8239-4834-b8d9-74ee5e23495d\" style=\"\n",
              "                    width: 100%;\n",
              "                    border: 1px solid #cfcfcf;\n",
              "                    border-radius: 4px;\n",
              "                    text-align: center;\n",
              "                    position: relative;\">\n",
              "                  <div class=\"pb-text\" style=\"\n",
              "                      position: absolute;\n",
              "                      width: 100%;\">\n",
              "                    0%\n",
              "                  </div>\n",
              "                  <div class=\"pb-fill\" style=\"\n",
              "                      background-color: #bdd2e6;\n",
              "                      width: 0%;\">\n",
              "                    <style type=\"text/css\" scoped=\"scoped\">\n",
              "                        @keyframes pb-fill-anim {\n",
              "                            0% { background-position: 0 0; }\n",
              "                            100% { background-position: 100px 0; }\n",
              "                        }\n",
              "                    </style>\n",
              "                    &nbsp;\n",
              "                  </div>\n",
              "                </div>"
            ]
          },
          "metadata": {}
        },
        {
          "output_type": "display_data",
          "data": {
            "application/vdom.v1+json": {
              "attributes": {
                "style": {
                  "boxSizing": "border-box",
                  "width": "100%",
                  "position": "relative",
                  "border": "1px solid #cfcfcf",
                  "textAlign": "center",
                  "borderRadius": "4px"
                },
                "id": "b008c02a-10cf-449b-be42-9c2d7d87880b"
              },
              "children": [
                {
                  "attributes": {
                    "style": {
                      "position": "absolute",
                      "width": "100%"
                    },
                    "class": "pb-text"
                  },
                  "children": [
                    "Build finished in 0:00:01."
                  ],
                  "tagName": "div"
                },
                {
                  "attributes": {
                    "style": {
                      "width": "100%",
                      "animation": "none",
                      "backgroundImage": "none",
                      "backgroundColor": "#bdd2e6",
                      "backgroundSize": "100px 100%"
                    },
                    "class": "pb-fill"
                  },
                  "children": [
                    {
                      "attributes": {
                        "type": "text/css",
                        "scoped": "scoped"
                      },
                      "children": [
                        "\n                        @keyframes pb-fill-anim {\n                            0% { background-position: 0 0; }\n                            100% { background-position: 100px 0; }\n                        }}"
                      ],
                      "tagName": "style"
                    },
                    " "
                  ],
                  "tagName": "div"
                }
              ],
              "tagName": "div"
            },
            "text/html": [
              "<script>\n",
              "              (function () {\n",
              "                  var root = document.getElementById('8b9c30ed-8239-4834-b8d9-74ee5e23495d');\n",
              "                  var text = root.getElementsByClassName('pb-text')[0];\n",
              "                  var fill = root.getElementsByClassName('pb-fill')[0];\n",
              "\n",
              "                  text.innerHTML = 'Build finished in 0:00:01.';\n",
              "                  \n",
              "            fill.style.width = '100%';\n",
              "            fill.style.animation = 'pb-fill-anim 2s linear infinite';\n",
              "            fill.style.backgroundSize = '100px 100%';\n",
              "            fill.style.backgroundImage = 'repeating-linear-gradient(' +\n",
              "                '90deg, #bdd2e6, #edf2f8 40%, #bdd2e6 80%, #bdd2e6)';\n",
              "        \n",
              "                  \n",
              "                fill.style.animation = 'none';\n",
              "                fill.style.backgroundImage = 'none';\n",
              "            \n",
              "              })();\n",
              "        </script>"
            ]
          },
          "metadata": {}
        },
        {
          "output_type": "display_data",
          "data": {
            "application/vdom.v1+json": {
              "attributes": {},
              "tagName": "div"
            },
            "text/plain": [
              "HtmlProgressBar cannot be displayed. Please use the TerminalProgressBar. It can be enabled with `nengo.rc['progress']['progress_bar'] = 'nengo.utils.progress.TerminalProgressBar'`."
            ],
            "text/html": [
              "\n",
              "                <script>\n",
              "                    if (Jupyter.version.split(\".\")[0] < 5) {\n",
              "                        var pb = document.getElementById(\"776890c1-ece9-4286-ad26-40db128dc31e\");\n",
              "                        var text = document.createTextNode(\n",
              "                            \"HMTL progress bar requires Jupyter Notebook >= \" +\n",
              "                            \"5.0 or Jupyter Lab. Alternatively, you can use \" +\n",
              "                            \"TerminalProgressBar().\");\n",
              "                        pb.parentNode.insertBefore(text, pb);\n",
              "                    }\n",
              "                </script>\n",
              "                <div id=\"776890c1-ece9-4286-ad26-40db128dc31e\" style=\"\n",
              "                    width: 100%;\n",
              "                    border: 1px solid #cfcfcf;\n",
              "                    border-radius: 4px;\n",
              "                    text-align: center;\n",
              "                    position: relative;\">\n",
              "                  <div class=\"pb-text\" style=\"\n",
              "                      position: absolute;\n",
              "                      width: 100%;\">\n",
              "                    0%\n",
              "                  </div>\n",
              "                  <div class=\"pb-fill\" style=\"\n",
              "                      background-color: #bdd2e6;\n",
              "                      width: 0%;\">\n",
              "                    <style type=\"text/css\" scoped=\"scoped\">\n",
              "                        @keyframes pb-fill-anim {\n",
              "                            0% { background-position: 0 0; }\n",
              "                            100% { background-position: 100px 0; }\n",
              "                        }\n",
              "                    </style>\n",
              "                    &nbsp;\n",
              "                  </div>\n",
              "                </div>"
            ]
          },
          "metadata": {}
        },
        {
          "output_type": "display_data",
          "data": {
            "application/vdom.v1+json": {
              "attributes": {
                "style": {
                  "boxSizing": "border-box",
                  "width": "100%",
                  "position": "relative",
                  "border": "1px solid #cfcfcf",
                  "textAlign": "center",
                  "borderRadius": "4px"
                },
                "id": "c82b49c1-3c59-4be2-aca5-61a57c301f57"
              },
              "children": [
                {
                  "attributes": {
                    "style": {
                      "position": "absolute",
                      "width": "100%"
                    },
                    "class": "pb-text"
                  },
                  "children": [
                    "Simulation finished in 0:00:02."
                  ],
                  "tagName": "div"
                },
                {
                  "attributes": {
                    "style": {
                      "width": "100%",
                      "animation": "none",
                      "backgroundImage": "none",
                      "backgroundColor": "#bdd2e6",
                      "transition": "width 0.1s linear"
                    },
                    "class": "pb-fill"
                  },
                  "children": [
                    {
                      "attributes": {
                        "type": "text/css",
                        "scoped": "scoped"
                      },
                      "children": [
                        "\n                        @keyframes pb-fill-anim {\n                            0% { background-position: 0 0; }\n                            100% { background-position: 100px 0; }\n                        }}"
                      ],
                      "tagName": "style"
                    },
                    " "
                  ],
                  "tagName": "div"
                }
              ],
              "tagName": "div"
            },
            "text/html": [
              "<script>\n",
              "              (function () {\n",
              "                  var root = document.getElementById('776890c1-ece9-4286-ad26-40db128dc31e');\n",
              "                  var text = root.getElementsByClassName('pb-text')[0];\n",
              "                  var fill = root.getElementsByClassName('pb-fill')[0];\n",
              "\n",
              "                  text.innerHTML = 'Simulation finished in 0:00:02.';\n",
              "                  \n",
              "            if (100.0 > 0.) {\n",
              "                fill.style.transition = 'width 0.1s linear';\n",
              "            } else {\n",
              "                fill.style.transition = 'none';\n",
              "            }\n",
              "\n",
              "            fill.style.width = '100.0%';\n",
              "            fill.style.animation = 'none';\n",
              "            fill.style.backgroundImage = 'none'\n",
              "        \n",
              "                  \n",
              "                fill.style.animation = 'none';\n",
              "                fill.style.backgroundImage = 'none';\n",
              "            \n",
              "              })();\n",
              "        </script>"
            ]
          },
          "metadata": {}
        }
      ]
    },
    {
      "cell_type": "code",
      "metadata": {
        "colab": {
          "base_uri": "https://localhost:8080/",
          "height": 285
        },
        "id": "a4lrP0t8Bq9D",
        "outputId": "acc52df7-cd05-44b9-d3c7-85b509235a32"
      },
      "source": [
        "# Plot the input signals and decoded ensemble values\n",
        "t = sim.trange()\n",
        "plt.figure()\n",
        "plt.plot(sim.trange(), sim.data[A_probe], label=\"Decoded Ensemble A\")\n",
        "plt.plot(sim.trange(), sim.data[B_probe], label=\"Decoded Ensemble B\")\n",
        "plt.plot(sim.trange(), sim.data[C_probe], label=\"Decoded Ensemble C\")\n",
        "plt.plot(\n",
        "    sim.trange(), sim.data[input_a_probe], label=\"Input A\", color=\"k\", linewidth=2.0\n",
        ")\n",
        "plt.plot(\n",
        "    sim.trange(), sim.data[input_b_probe], label=\"Input B\", color=\"0.75\", linewidth=2.0\n",
        ")\n",
        "plt.legend()\n",
        "plt.ylim(1, 0)"
      ],
      "execution_count": 12,
      "outputs": [
        {
          "output_type": "execute_result",
          "data": {
            "text/plain": [
              "(1.0, 0.0)"
            ]
          },
          "metadata": {},
          "execution_count": 12
        },
        {
          "output_type": "display_data",
          "data": {
            "image/png": "[encoded data removed]",
            "text/plain": [
              "<Figure size 432x288 with 1 Axes>"
            ]
          },
          "metadata": {
            "needs_background": "light"
          }
        }
      ]
    }
  ]
}