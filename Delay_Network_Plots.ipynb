{
  "nbformat": 4,
  "nbformat_minor": 0,
  "metadata": {
    "kernelspec": {
      "display_name": "Python 3",
      "language": "python",
      "name": "python3"
    },
    "language_info": {
      "codemirror_mode": {
        "name": "ipython",
        "version": 3
      },
      "file_extension": ".py",
      "mimetype": "text/x-python",
      "name": "python",
      "nbconvert_exporter": "python",
      "pygments_lexer": "ipython3",
      "version": "3.7.6"
    },
    "colab": {
      "name": "Delay Network Plots.ipynb",
      "provenance": []
    },
    "accelerator": "GPU"
  },
  "cells": [
    {
      "cell_type": "code",
      "metadata": {
        "id": "ugeEENzFICT_",
        "outputId": "4943bc6e-ca0d-4a4c-cf88-936137193627",
        "colab": {
          "base_uri": "https://localhost:8080/"
        }
      },
      "source": [
        "!pip install nengo\n",
        "!pip install nengo_bio"
      ],
      "execution_count": 44,
      "outputs": [
        {
          "output_type": "stream",
          "name": "stdout",
          "text": [
            "Requirement already satisfied: nengo in /usr/local/lib/python3.7/dist-packages (3.1.0)\n",
            "Requirement already satisfied: numpy>=1.13 in /usr/local/lib/python3.7/dist-packages (from nengo) (1.19.5)\n",
            "Requirement already satisfied: nengo_bio in /usr/local/lib/python3.7/dist-packages (0.2.0)\n",
            "Requirement already satisfied: scipy>=1.2.0 in /usr/local/lib/python3.7/dist-packages (from nengo_bio) (1.4.1)\n",
            "Requirement already satisfied: cvxopt>=1.2.2 in /usr/local/lib/python3.7/dist-packages (from nengo_bio) (1.2.7)\n",
            "Requirement already satisfied: nengo>=2.8 in /usr/local/lib/python3.7/dist-packages (from nengo_bio) (3.1.0)\n",
            "Requirement already satisfied: posix-ipc>=1.0.4 in /usr/local/lib/python3.7/dist-packages (from nengo_bio) (1.0.5)\n",
            "Requirement already satisfied: numpy>=1.16.3 in /usr/local/lib/python3.7/dist-packages (from nengo_bio) (1.19.5)\n"
          ]
        }
      ]
    },
    {
      "cell_type": "code",
      "metadata": {
        "id": "0WmX5DtqInb5",
        "outputId": "2e3a28ee-9877-42ee-8351-12843758ebde",
        "colab": {
          "base_uri": "https://localhost:8080/"
        }
      },
      "source": [
        "\n",
        "!wget -c https://raw.githubusercontent.com/ctn-waterloo/cogsci2020-cerebellum/master/model/granule_golgi_circuit.py"
      ],
      "execution_count": 45,
      "outputs": [
        {
          "output_type": "stream",
          "name": "stdout",
          "text": [
            "--2021-10-13 05:45:24--  https://raw.githubusercontent.com/ctn-waterloo/cogsci2020-cerebellum/master/model/granule_golgi_circuit.py\n",
            "Resolving raw.githubusercontent.com (raw.githubusercontent.com)... 185.199.108.133, 185.199.109.133, 185.199.110.133, ...\n",
            "Connecting to raw.githubusercontent.com (raw.githubusercontent.com)|185.199.108.133|:443... connected.\n",
            "HTTP request sent, awaiting response... 416 Range Not Satisfiable\n",
            "\n",
            "    The file is already fully retrieved; nothing to do.\n",
            "\n"
          ]
        }
      ]
    },
    {
      "cell_type": "code",
      "metadata": {
        "id": "2lc16bn3H_tr"
      },
      "source": [
        "%matplotlib inline\n",
        "import matplotlib.pyplot as plt\n",
        "import matplotlib.cm as cm\n",
        "import numpy as np\n",
        "import nengo\n",
        "from nengo.utils.ensemble import sorted_neurons\n",
        "\n",
        "import sys\n",
        "sys.path.append('../model')\n",
        "\n",
        "from granule_golgi_circuit import GranuleGolgiCircuit"
      ],
      "execution_count": 46,
      "outputs": []
    },
    {
      "cell_type": "code",
      "metadata": {
        "id": "fYhOvcU5H_tz"
      },
      "source": [
        "#from cycler import cycler\n",
        "#default_cycler = (cycler(color=['#204a87', '#f57900', '#4e9a06', '#cc0000', '#75507b', '#8f5902']))\n",
        "#plt.rc('axes', prop_cycle=default_cycler)"
      ],
      "execution_count": 47,
      "outputs": []
    },
    {
      "cell_type": "code",
      "metadata": {
        "id": "Gz1BdqrSH_t0"
      },
      "source": [
        "from scipy.special import legendre\n",
        "def get_weights_for_delays(q, r):\n",
        "    # compute the weights needed to extract the value at time r\n",
        "    # from the network (r=0 is right now, r=1 is theta seconds ago)\n",
        "    r = np.asarray(r)\n",
        "    m = np.asarray([legendre(i)(2*r - 1) for i in range(q)])\n",
        "    return m.reshape(q,-1).T"
      ],
      "execution_count": 48,
      "outputs": []
    },
    {
      "cell_type": "code",
      "metadata": {
        "id": "eddU8FOCH_t2"
      },
      "source": [
        "def rasterplot(ax, ts, A):\n",
        "    N, n = A.shape\n",
        "    color = '#c0c0c0'\n",
        "    for i in range(n):\n",
        "        for t in ts[np.where(A[:, i] != 0)]:\n",
        "            ax.plot([t, t], [i + 0.5, i + 1.5], color=color, zorder=-100)\n",
        "    ax.set_ylim(0.5, n + 0.5)\n",
        "    if n < 5:\n",
        "        ax.set_yticks(list(range(1, n + 1)))\n",
        "    else:\n",
        "        ax.set_yticks(list(range(1, n + 1, int(np.ceil(n / 5)))))"
      ],
      "execution_count": 49,
      "outputs": []
    },
    {
      "cell_type": "code",
      "metadata": {
        "id": "37AzLJaPH_t3"
      },
      "source": [
        "def run_experiment(mode, period=1.0, dt=1e-3):\n",
        "    np.random.seed(45356)\n",
        "    with nengo.Network() as model:\n",
        "        # Stimulus\n",
        "        nd_stim = nengo.Node(lambda t: 1 if 0.1<t%period<0.2 else 0)\n",
        "\n",
        "        # Pre-ensemble\n",
        "        ens_pcn = nengo.Ensemble(\n",
        "            n_neurons=100,\n",
        "            dimensions=1,\n",
        "            neuron_type=nengo.Direct() if mode == \"direct\" else nengo.LIF()\n",
        "        )\n",
        "        nengo.Connection(nd_stim, ens_pcn)\n",
        "\n",
        "        # Create the circuit\n",
        "        net_golgi_granule = GranuleGolgiCircuit(\n",
        "            ens_pcn,\n",
        "            mode=mode)\n",
        "\n",
        "        # Record the stimulus\n",
        "        p_stim = nengo.Probe(nd_stim, synapse=None)\n",
        "\n",
        "        # Record the spikes of the granule ensemble\n",
        "        if mode == \"direct\":\n",
        "            p_granule = nengo.Probe(\n",
        "                net_golgi_granule.nd_delay_network)\n",
        "        else:\n",
        "            p_granule = nengo.Probe(\n",
        "                net_golgi_granule.ens_granule,\n",
        "                synapse=0.1)\n",
        "        p_granule_spikes = nengo.Probe(\n",
        "            net_golgi_granule.ens_granule.neurons,\n",
        "            synapse=None)\n",
        "\n",
        "    with nengo.Simulator(model, progress_bar=None, dt=dt) as sim:\n",
        "        sim.run(period*2)\n",
        "\n",
        "    indices = sorted_neurons(net_golgi_granule.ens_granule, sim, iterations=250)\n",
        "\n",
        "    ts = sim.trange()\n",
        "    return (\n",
        "        ts[ts >= period] - period,\n",
        "        sim.data[p_stim][ts >= period],\n",
        "        sim.data[p_granule][ts >= period],\n",
        "        sim.data[p_granule_spikes][:, indices][ts >= period])"
      ],
      "execution_count": 50,
      "outputs": []
    },
    {
      "cell_type": "code",
      "metadata": {
        "id": "uVao13VXH_t5"
      },
      "source": [
        "# Run the experiments\n",
        "ts, stim, V1_granule, _ = run_experiment('direct')\n",
        "\n",
        "_ , _   , V2_granule, V2_granule_spikes = run_experiment('single_population')\n",
        "\n"
      ],
      "execution_count": 51,
      "outputs": []
    },
    {
      "cell_type": "code",
      "metadata": {
        "id": "bDj4PxZ_H_t8"
      },
      "source": [
        "# Delay the stimulus\n",
        "dt = (ts[-1] - ts[0]) / (len(ts) - 1)\n",
        "stim_delay = np.concatenate((np.zeros_like(np.arange(0, 0.2, dt)), stim[:, 0]))[:len(ts)]\n",
        "\n",
        "V1_delayed = V1_granule @ get_weights_for_delays(6, 0.5)[0]\n",
        "V2_delayed = V2_granule @ get_weights_for_delays(6, 0.4)[0] # account for 100ms filter\n"
      ],
      "execution_count": 52,
      "outputs": []
    },
    {
      "cell_type": "code",
      "metadata": {
        "id": "K7n6e1ErH_t-",
        "outputId": "8231ad24-5ebe-4de3-8f44-3c235181f6a3",
        "colab": {
          "base_uri": "https://localhost:8080/",
          "height": 250
        }
      },
      "source": [
        "def hide_spines(ax):\n",
        "    for side in ['top', 'right', 'bottom', 'left']:\n",
        "        ax.spines[side].set_visible(False)\n",
        "    return ax\n",
        "\n",
        "fig = plt.figure(figsize=(4.6, 4.0))\n",
        "\n",
        "ax1 = hide_spines(plt.subplot2grid((12, 1), (0, 0)))\n",
        "ax1.plot(ts, stim, 'k', linewidth=1)\n",
        "ax1.plot([0.1, 0.2], [-0.3, -0.3], clip_on=False, linewidth=2.0, color='k')\n",
        "ax1.set_ylim(0, 1)\n",
        "ax1.set_yticks([])\n",
        "ax1.text(0.15, -0.6, '$100\\\\,\\\\mathrm{ms}$', \n",
        "         ha='center', va='top', fontsize=8,)\n",
        "ax1.text(0.25, 1.2, 'Input $u(t)$', \n",
        "         ha='left', va='top', fontsize=9, transform=ax1.transAxes,)\n",
        "ax1.set_xticks([])\n",
        "\n",
        "ax2 = hide_spines(plt.subplot2grid((12, 1), (1, 0), sharex=ax1, rowspan=3))\n",
        "for i in range(6):\n",
        "    ax2.plot(ts, V1_granule[:, i], clip_on=False, label='$m_{}$'.format(i + 1), zorder=100-i)\n",
        "ax2.text(0.92, 0.95, 'Ideal delay network', \n",
        "         ha='right', va='top', fontsize=9, transform=ax2.transAxes,\n",
        "         fontdict={'style': 'italic'})\n",
        "ax2.text(0.025, 0.825, 'A', fontsize=12,\n",
        "         transform=ax2.transAxes,)\n",
        "ax2.plot([0.945], [0.885], 's', markersize=4.0,\n",
        "         transform=ax2.transAxes, color=cm.get_cmap('tab10')(0.0))\n",
        "ax2.set_ylim(-0.6, 0.6)\n",
        "ax2.set_yticks([])\n",
        "ax2.legend(\n",
        "    loc='lower right',\n",
        "    ncol=3,\n",
        "    bbox_to_anchor=(1, -0.2),\n",
        "    labelspacing=0.0,\n",
        "    handlelength=1.0,\n",
        "    handletextpad=0.5,\n",
        "    columnspacing=0.75)\n",
        "\n",
        "ax3 = hide_spines(plt.subplot2grid((12, 1), (4, 0), sharex=ax1, rowspan=3))\n",
        "twax = hide_spines(ax3.twinx())\n",
        "twax.set_zorder(-2)\n",
        "rasterplot(twax, ts, V2_granule_spikes[:, ::10])\n",
        "twax.set_yticks([])\n",
        "twax.set_ylim(-5, 30)\n",
        "\n",
        "for i in range(6):\n",
        "    ax3.plot(ts, V2_granule[:, i], clip_on=False, label='$m_{}$'.format(i + 1), zorder=100-i)\n",
        "ax3.text(0.92, 1.0, 'Single neural population', \n",
        "         ha='right', va='top', fontsize=9, transform=ax3.transAxes,\n",
        "         fontdict={'style': 'italic'})\n",
        "ax3.plot([0.945], [0.935], 's', markersize=4.0,\n",
        "         transform=ax3.transAxes, color=cm.get_cmap('tab10')(0.1))\n",
        "ax3.text(0.025, 0.825, 'B', fontsize=12,\n",
        "         transform=ax3.transAxes)\n",
        "ax3.set_ylim(-0.6, 0.6)\n",
        "ax3.set_yticks([])\n",
        "\n",
        "ax4 = hide_spines(plt.subplot2grid((12, 1), (7, 0), sharex=ax1, rowspan=3))\n",
        "twax = hide_spines(ax4.twinx())\n",
        "twax.set_zorder(-2)\n",
        "rasterplot(twax, ts, V2_granule_spikes[:, ::10])\n",
        "twax.set_yticks([])\n",
        "twax.set_ylim(-5, 30)\n",
        "\n",
        "for i in range(6):\n",
        "    ax4.plot(ts, V2_granule[:, i], clip_on=False, label='$m_{}$'.format(i + 1), zorder=100-i)\n",
        "ax4.text(0.92, 1.0, 'Golgi/Granule populations', \n",
        "         ha='right', va='top', fontsize=9, transform=ax4.transAxes,\n",
        "         fontdict={'style': 'italic'})\n",
        "ax4.plot([0.945], [0.935], 's', markersize=4.0,\n",
        "         transform=ax4.transAxes, color=cm.get_cmap('tab10')(0.2))\n",
        "ax4.text(0.025, 0.825, 'C', fontsize=12,\n",
        "         transform=ax4.transAxes)\n",
        "ax4.set_ylim(-0.6, 0.6)\n",
        "ax4.set_yticks([])\n",
        "\n",
        "ax5 = hide_spines(plt.subplot2grid((12, 1), (10, 0), sharex=ax1, rowspan=2))\n",
        "ax5.plot(ts, stim_delay, 'k--', linewidth=1)\n",
        "ax5.plot(ts, V1_delayed, zorder=3)\n",
        "ax5.plot(ts, V2_delayed, zorder=2)\n",
        "ax5.plot(ts, V2_delayed, zorder=1)\n",
        "ax5.text(0.45, 1.0, 'Delayed Input $\\\\tilde u(t)$', \n",
        "         ha='left', va='top', fontsize=9, transform=ax5.transAxes,)\n",
        "ax5.text(0.025, 0.825, 'D', fontsize=12,\n",
        "         transform=ax5.transAxes)\n",
        "ax5.set_yticks([])\n",
        "ax5.set_ylim(-0.1, 1)\n",
        "\n",
        "plt.subplots_adjust(left=None, bottom=None, right=None, top=None, wspace=None, hspace=1.0)\n",
        "\n",
        "fig.savefig('delay_network_response.pdf', bbox_inches='tight', transparent=True)"
      ],
      "execution_count": 53,
      "outputs": [
        {
          "output_type": "display_data",
          "data": {
            "image/png": "[encoded data removed]",
            "text/plain": [
              "<Figure size 331.2x288 with 7 Axes>"
            ]
          },
          "metadata": {}
        }
      ]
    }
  ]
}