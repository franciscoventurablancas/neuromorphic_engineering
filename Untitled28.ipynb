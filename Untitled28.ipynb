{
  "nbformat": 4,
  "nbformat_minor": 0,
  "metadata": {
    "colab": {
      "name": "Untitled28.ipynb",
      "provenance": []
    },
    "kernelspec": {
      "name": "python3",
      "display_name": "Python 3"
    },
    "language_info": {
      "name": "python"
    }
  },
  "cells": [
    {
      "cell_type": "code",
      "metadata": {
        "colab": {
          "base_uri": "https://localhost:8080/"
        },
        "id": "ldM1p38NAbiu",
        "outputId": "521441e2-8ca0-4d6e-f40f-63e84ef634a3"
      },
      "source": [
        "!pip install nengo"
      ],
      "execution_count": 1,
      "outputs": [
        {
          "output_type": "stream",
          "name": "stdout",
          "text": [
            "Collecting nengo\n",
            "  Downloading nengo-3.1.0-py3-none-any.whl (523 kB)\n",
            "\u001b[?25l\r\u001b[K     |▋                               | 10 kB 18.2 MB/s eta 0:00:01\r\u001b[K     |█▎                              | 20 kB 21.5 MB/s eta 0:00:01\r\u001b[K     |█▉                              | 30 kB 22.5 MB/s eta 0:00:01\r\u001b[K     |██▌                             | 40 kB 13.9 MB/s eta 0:00:01\r\u001b[K     |███▏                            | 51 kB 10.4 MB/s eta 0:00:01\r\u001b[K     |███▊                            | 61 kB 10.0 MB/s eta 0:00:01\r\u001b[K     |████▍                           | 71 kB 7.9 MB/s eta 0:00:01\r\u001b[K     |█████                           | 81 kB 8.8 MB/s eta 0:00:01\r\u001b[K     |█████▋                          | 92 kB 8.9 MB/s eta 0:00:01\r\u001b[K     |██████▎                         | 102 kB 8.5 MB/s eta 0:00:01\r\u001b[K     |██████▉                         | 112 kB 8.5 MB/s eta 0:00:01\r\u001b[K     |███████▌                        | 122 kB 8.5 MB/s eta 0:00:01\r\u001b[K     |████████▏                       | 133 kB 8.5 MB/s eta 0:00:01\r\u001b[K     |████████▊                       | 143 kB 8.5 MB/s eta 0:00:01\r\u001b[K     |█████████▍                      | 153 kB 8.5 MB/s eta 0:00:01\r\u001b[K     |██████████                      | 163 kB 8.5 MB/s eta 0:00:01\r\u001b[K     |██████████▋                     | 174 kB 8.5 MB/s eta 0:00:01\r\u001b[K     |███████████▎                    | 184 kB 8.5 MB/s eta 0:00:01\r\u001b[K     |████████████                    | 194 kB 8.5 MB/s eta 0:00:01\r\u001b[K     |████████████▌                   | 204 kB 8.5 MB/s eta 0:00:01\r\u001b[K     |█████████████▏                  | 215 kB 8.5 MB/s eta 0:00:01\r\u001b[K     |█████████████▊                  | 225 kB 8.5 MB/s eta 0:00:01\r\u001b[K     |██████████████▍                 | 235 kB 8.5 MB/s eta 0:00:01\r\u001b[K     |███████████████                 | 245 kB 8.5 MB/s eta 0:00:01\r\u001b[K     |███████████████▋                | 256 kB 8.5 MB/s eta 0:00:01\r\u001b[K     |████████████████▎               | 266 kB 8.5 MB/s eta 0:00:01\r\u001b[K     |█████████████████               | 276 kB 8.5 MB/s eta 0:00:01\r\u001b[K     |█████████████████▌              | 286 kB 8.5 MB/s eta 0:00:01\r\u001b[K     |██████████████████▏             | 296 kB 8.5 MB/s eta 0:00:01\r\u001b[K     |██████████████████▉             | 307 kB 8.5 MB/s eta 0:00:01\r\u001b[K     |███████████████████▍            | 317 kB 8.5 MB/s eta 0:00:01\r\u001b[K     |████████████████████            | 327 kB 8.5 MB/s eta 0:00:01\r\u001b[K     |████████████████████▋           | 337 kB 8.5 MB/s eta 0:00:01\r\u001b[K     |█████████████████████▎          | 348 kB 8.5 MB/s eta 0:00:01\r\u001b[K     |██████████████████████          | 358 kB 8.5 MB/s eta 0:00:01\r\u001b[K     |██████████████████████▌         | 368 kB 8.5 MB/s eta 0:00:01\r\u001b[K     |███████████████████████▏        | 378 kB 8.5 MB/s eta 0:00:01\r\u001b[K     |███████████████████████▉        | 389 kB 8.5 MB/s eta 0:00:01\r\u001b[K     |████████████████████████▍       | 399 kB 8.5 MB/s eta 0:00:01\r\u001b[K     |█████████████████████████       | 409 kB 8.5 MB/s eta 0:00:01\r\u001b[K     |█████████████████████████▊      | 419 kB 8.5 MB/s eta 0:00:01\r\u001b[K     |██████████████████████████▎     | 430 kB 8.5 MB/s eta 0:00:01\r\u001b[K     |███████████████████████████     | 440 kB 8.5 MB/s eta 0:00:01\r\u001b[K     |███████████████████████████▌    | 450 kB 8.5 MB/s eta 0:00:01\r\u001b[K     |████████████████████████████▏   | 460 kB 8.5 MB/s eta 0:00:01\r\u001b[K     |████████████████████████████▉   | 471 kB 8.5 MB/s eta 0:00:01\r\u001b[K     |█████████████████████████████▍  | 481 kB 8.5 MB/s eta 0:00:01\r\u001b[K     |██████████████████████████████  | 491 kB 8.5 MB/s eta 0:00:01\r\u001b[K     |██████████████████████████████▊ | 501 kB 8.5 MB/s eta 0:00:01\r\u001b[K     |███████████████████████████████▎| 512 kB 8.5 MB/s eta 0:00:01\r\u001b[K     |████████████████████████████████| 522 kB 8.5 MB/s eta 0:00:01\r\u001b[K     |████████████████████████████████| 523 kB 8.5 MB/s \n",
            "\u001b[?25hRequirement already satisfied: numpy>=1.13 in /usr/local/lib/python3.7/dist-packages (from nengo) (1.19.5)\n",
            "Installing collected packages: nengo\n",
            "Successfully installed nengo-3.1.0\n"
          ]
        }
      ]
    },
    {
      "cell_type": "code",
      "metadata": {
        "id": "T5Bjs10CAhJ4"
      },
      "source": [
        "%matplotlib inline\n",
        "import matplotlib.pyplot as plt\n",
        "import numpy as np\n",
        "\n",
        "import nengo"
      ],
      "execution_count": 2,
      "outputs": []
    },
    {
      "cell_type": "code",
      "metadata": {
        "id": "kCkGyXYjAnMe"
      },
      "source": [
        "model = nengo.Network(label=\"Combining\")\n",
        "with model:\n",
        "    # Our input ensembles consist of 100 leaky integrate-and-fire neurons,\n",
        "    # representing a one-dimensional signal\n",
        "    A = nengo.Ensemble(100, dimensions=1)\n",
        "    B = nengo.Ensemble(100, dimensions=1)\n",
        "\n",
        "    # The output ensemble consists of 200 leaky integrate-and-fire neurons,\n",
        "    # representing a two-dimensional signal\n",
        "    output = nengo.Ensemble(200, dimensions=2, label=\"2D Population\")"
      ],
      "execution_count": 3,
      "outputs": []
    },
    {
      "cell_type": "code",
      "metadata": {
        "id": "-S-2skEAArjf"
      },
      "source": [
        "with model:\n",
        "    # Create input nodes generating the sine and cosine\n",
        "    sin = nengo.Node(output=np.sin)\n",
        "    cos = nengo.Node(output=np.cos)"
      ],
      "execution_count": 4,
      "outputs": []
    },
    {
      "cell_type": "code",
      "metadata": {
        "id": "UCa7NjbTAvzA"
      },
      "source": [
        "with model:\n",
        "    nengo.Connection(sin, A)\n",
        "    nengo.Connection(cos, B)\n",
        "\n",
        "    # The square brackets define which dimension the input will project to\n",
        "    nengo.Connection(A, output[1])\n",
        "    nengo.Connection(B, output[0])"
      ],
      "execution_count": 5,
      "outputs": []
    },
    {
      "cell_type": "code",
      "metadata": {
        "id": "v7WbGmqpAz9F"
      },
      "source": [
        "with model:\n",
        "    sin_probe = nengo.Probe(sin)\n",
        "    cos_probe = nengo.Probe(cos)\n",
        "    A_probe = nengo.Probe(A, synapse=0.01)  # 10ms filter\n",
        "    B_probe = nengo.Probe(B, synapse=0.01)  # 10ms filter\n",
        "    out_probe = nengo.Probe(output, synapse=0.01)  # 10ms filter"
      ],
      "execution_count": 6,
      "outputs": []
    },
    {
      "cell_type": "code",
      "metadata": {
        "colab": {
          "base_uri": "https://localhost:8080/",
          "height": 75
        },
        "id": "DDPmH5EjA3Yd",
        "outputId": "d06d3fb8-15b4-402a-ab2d-2df7b12a1de6"
      },
      "source": [
        "# Create our simulator\n",
        "with nengo.Simulator(model) as sim:\n",
        "    # Run it for 5 seconds\n",
        "    sim.run(5)"
      ],
      "execution_count": 7,
      "outputs": [
        {
          "output_type": "display_data",
          "data": {
            "application/vdom.v1+json": {
              "attributes": {},
              "tagName": "div"
            },
            "text/plain": [
              "HtmlProgressBar cannot be displayed. Please use the TerminalProgressBar. It can be enabled with `nengo.rc['progress']['progress_bar'] = 'nengo.utils.progress.TerminalProgressBar'`."
            ],
            "text/html": [
              "\n",
              "                <script>\n",
              "                    if (Jupyter.version.split(\".\")[0] < 5) {\n",
              "                        var pb = document.getElementById(\"566bc4b3-f0ef-4f93-b465-d2a4ea9ac115\");\n",
              "                        var text = document.createTextNode(\n",
              "                            \"HMTL progress bar requires Jupyter Notebook >= \" +\n",
              "                            \"5.0 or Jupyter Lab. Alternatively, you can use \" +\n",
              "                            \"TerminalProgressBar().\");\n",
              "                        pb.parentNode.insertBefore(text, pb);\n",
              "                    }\n",
              "                </script>\n",
              "                <div id=\"566bc4b3-f0ef-4f93-b465-d2a4ea9ac115\" style=\"\n",
              "                    width: 100%;\n",
              "                    border: 1px solid #cfcfcf;\n",
              "                    border-radius: 4px;\n",
              "                    text-align: center;\n",
              "                    position: relative;\">\n",
              "                  <div class=\"pb-text\" style=\"\n",
              "                      position: absolute;\n",
              "                      width: 100%;\">\n",
              "                    0%\n",
              "                  </div>\n",
              "                  <div class=\"pb-fill\" style=\"\n",
              "                      background-color: #bdd2e6;\n",
              "                      width: 0%;\">\n",
              "                    <style type=\"text/css\" scoped=\"scoped\">\n",
              "                        @keyframes pb-fill-anim {\n",
              "                            0% { background-position: 0 0; }\n",
              "                            100% { background-position: 100px 0; }\n",
              "                        }\n",
              "                    </style>\n",
              "                    &nbsp;\n",
              "                  </div>\n",
              "                </div>"
            ]
          },
          "metadata": {}
        },
        {
          "output_type": "display_data",
          "data": {
            "application/vdom.v1+json": {
              "attributes": {
                "style": {
                  "boxSizing": "border-box",
                  "width": "100%",
                  "position": "relative",
                  "border": "1px solid #cfcfcf",
                  "textAlign": "center",
                  "borderRadius": "4px"
                },
                "id": "7497f8f2-f212-408b-9ae3-d82b0d87651b"
              },
              "children": [
                {
                  "attributes": {
                    "style": {
                      "position": "absolute",
                      "width": "100%"
                    },
                    "class": "pb-text"
                  },
                  "children": [
                    "Build finished in 0:00:01."
                  ],
                  "tagName": "div"
                },
                {
                  "attributes": {
                    "style": {
                      "width": "100%",
                      "animation": "none",
                      "backgroundImage": "none",
                      "backgroundColor": "#bdd2e6",
                      "backgroundSize": "100px 100%"
                    },
                    "class": "pb-fill"
                  },
                  "children": [
                    {
                      "attributes": {
                        "type": "text/css",
                        "scoped": "scoped"
                      },
                      "children": [
                        "\n                        @keyframes pb-fill-anim {\n                            0% { background-position: 0 0; }\n                            100% { background-position: 100px 0; }\n                        }}"
                      ],
                      "tagName": "style"
                    },
                    " "
                  ],
                  "tagName": "div"
                }
              ],
              "tagName": "div"
            },
            "text/html": [
              "<script>\n",
              "              (function () {\n",
              "                  var root = document.getElementById('566bc4b3-f0ef-4f93-b465-d2a4ea9ac115');\n",
              "                  var text = root.getElementsByClassName('pb-text')[0];\n",
              "                  var fill = root.getElementsByClassName('pb-fill')[0];\n",
              "\n",
              "                  text.innerHTML = 'Build finished in 0:00:01.';\n",
              "                  \n",
              "            fill.style.width = '100%';\n",
              "            fill.style.animation = 'pb-fill-anim 2s linear infinite';\n",
              "            fill.style.backgroundSize = '100px 100%';\n",
              "            fill.style.backgroundImage = 'repeating-linear-gradient(' +\n",
              "                '90deg, #bdd2e6, #edf2f8 40%, #bdd2e6 80%, #bdd2e6)';\n",
              "        \n",
              "                  \n",
              "                fill.style.animation = 'none';\n",
              "                fill.style.backgroundImage = 'none';\n",
              "            \n",
              "              })();\n",
              "        </script>"
            ]
          },
          "metadata": {}
        },
        {
          "output_type": "display_data",
          "data": {
            "application/vdom.v1+json": {
              "attributes": {},
              "tagName": "div"
            },
            "text/plain": [
              "HtmlProgressBar cannot be displayed. Please use the TerminalProgressBar. It can be enabled with `nengo.rc['progress']['progress_bar'] = 'nengo.utils.progress.TerminalProgressBar'`."
            ],
            "text/html": [
              "\n",
              "                <script>\n",
              "                    if (Jupyter.version.split(\".\")[0] < 5) {\n",
              "                        var pb = document.getElementById(\"c1243042-7cf2-47b1-b4ba-db999220e9fd\");\n",
              "                        var text = document.createTextNode(\n",
              "                            \"HMTL progress bar requires Jupyter Notebook >= \" +\n",
              "                            \"5.0 or Jupyter Lab. Alternatively, you can use \" +\n",
              "                            \"TerminalProgressBar().\");\n",
              "                        pb.parentNode.insertBefore(text, pb);\n",
              "                    }\n",
              "                </script>\n",
              "                <div id=\"c1243042-7cf2-47b1-b4ba-db999220e9fd\" style=\"\n",
              "                    width: 100%;\n",
              "                    border: 1px solid #cfcfcf;\n",
              "                    border-radius: 4px;\n",
              "                    text-align: center;\n",
              "                    position: relative;\">\n",
              "                  <div class=\"pb-text\" style=\"\n",
              "                      position: absolute;\n",
              "                      width: 100%;\">\n",
              "                    0%\n",
              "                  </div>\n",
              "                  <div class=\"pb-fill\" style=\"\n",
              "                      background-color: #bdd2e6;\n",
              "                      width: 0%;\">\n",
              "                    <style type=\"text/css\" scoped=\"scoped\">\n",
              "                        @keyframes pb-fill-anim {\n",
              "                            0% { background-position: 0 0; }\n",
              "                            100% { background-position: 100px 0; }\n",
              "                        }\n",
              "                    </style>\n",
              "                    &nbsp;\n",
              "                  </div>\n",
              "                </div>"
            ]
          },
          "metadata": {}
        },
        {
          "output_type": "display_data",
          "data": {
            "application/vdom.v1+json": {
              "attributes": {
                "style": {
                  "boxSizing": "border-box",
                  "width": "100%",
                  "position": "relative",
                  "border": "1px solid #cfcfcf",
                  "textAlign": "center",
                  "borderRadius": "4px"
                },
                "id": "e86b82cb-dbc4-47df-8f9d-1c388d4a8dec"
              },
              "children": [
                {
                  "attributes": {
                    "style": {
                      "position": "absolute",
                      "width": "100%"
                    },
                    "class": "pb-text"
                  },
                  "children": [
                    "Simulation finished in 0:00:02."
                  ],
                  "tagName": "div"
                },
                {
                  "attributes": {
                    "style": {
                      "width": "100%",
                      "animation": "none",
                      "backgroundImage": "none",
                      "backgroundColor": "#bdd2e6",
                      "transition": "width 0.1s linear"
                    },
                    "class": "pb-fill"
                  },
                  "children": [
                    {
                      "attributes": {
                        "type": "text/css",
                        "scoped": "scoped"
                      },
                      "children": [
                        "\n                        @keyframes pb-fill-anim {\n                            0% { background-position: 0 0; }\n                            100% { background-position: 100px 0; }\n                        }}"
                      ],
                      "tagName": "style"
                    },
                    " "
                  ],
                  "tagName": "div"
                }
              ],
              "tagName": "div"
            },
            "text/html": [
              "<script>\n",
              "              (function () {\n",
              "                  var root = document.getElementById('c1243042-7cf2-47b1-b4ba-db999220e9fd');\n",
              "                  var text = root.getElementsByClassName('pb-text')[0];\n",
              "                  var fill = root.getElementsByClassName('pb-fill')[0];\n",
              "\n",
              "                  text.innerHTML = 'Simulation finished in 0:00:02.';\n",
              "                  \n",
              "            if (100.0 > 0.) {\n",
              "                fill.style.transition = 'width 0.1s linear';\n",
              "            } else {\n",
              "                fill.style.transition = 'none';\n",
              "            }\n",
              "\n",
              "            fill.style.width = '100.0%';\n",
              "            fill.style.animation = 'none';\n",
              "            fill.style.backgroundImage = 'none'\n",
              "        \n",
              "                  \n",
              "                fill.style.animation = 'none';\n",
              "                fill.style.backgroundImage = 'none';\n",
              "            \n",
              "              })();\n",
              "        </script>"
            ]
          },
          "metadata": {}
        }
      ]
    },
    {
      "cell_type": "code",
      "metadata": {
        "colab": {
          "base_uri": "https://localhost:8080/",
          "height": 281
        },
        "id": "i1C3abq8A7d4",
        "outputId": "9df486c7-194b-41c9-fce5-b4ce6c5e5b25"
      },
      "source": [
        "# Plot the decoded output of the ensemble\n",
        "plt.figure()\n",
        "plt.plot(sim.trange(), sim.data[out_probe][:, 0], \"b\", label=\"2D output\")\n",
        "plt.plot(sim.trange(), sim.data[out_probe][:, 1], \"g\", label=\"2D output\")\n",
        "plt.plot(sim.trange(), sim.data[A_probe], \"r\", label=\"A output\")\n",
        "plt.plot(sim.trange(), sim.data[sin_probe], \"k\", label=\"Sine\")\n",
        "plt.legend()"
      ],
      "execution_count": 8,
      "outputs": [
        {
          "output_type": "execute_result",
          "data": {
            "text/plain": [
              "<matplotlib.legend.Legend at 0x7fa6015e6990>"
            ]
          },
          "metadata": {},
          "execution_count": 8
        },
        {
          "output_type": "display_data",
          "data": {
            "image/png": "[encoded data removed]",
            "text/plain": [
              "<Figure size 432x288 with 1 Axes>"
            ]
          },
          "metadata": {
            "needs_background": "light"
          }
        }
      ]
    }
  ]
}