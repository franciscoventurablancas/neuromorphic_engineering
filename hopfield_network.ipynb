{
  "nbformat": 4,
  "nbformat_minor": 0,
  "metadata": {
    "kernelspec": {
      "display_name": "Python 2",
      "language": "python",
      "name": "python2"
    },
    "language_info": {
      "codemirror_mode": {
        "name": "ipython",
        "version": 2
      },
      "file_extension": ".py",
      "mimetype": "text/x-python",
      "name": "python",
      "nbconvert_exporter": "python",
      "pygments_lexer": "ipython2",
      "version": "2.7.10"
    },
    "colab": {
      "name": "hopfield_network.ipynb",
      "provenance": []
    }
  },
  "cells": [
    {
      "cell_type": "code",
      "metadata": {
        "id": "R1AhU45C56xb",
        "outputId": "d3eed4e6-cf83-47f2-e897-8c0a7911177d",
        "colab": {
          "base_uri": "https://localhost:8080/"
        }
      },
      "source": [
        "!pip install nengo"
      ],
      "execution_count": 1,
      "outputs": [
        {
          "output_type": "stream",
          "name": "stdout",
          "text": [
            "Collecting nengo\n",
            "\u001b[?25l  Downloading https://files.pythonhosted.org/packages/f7/ce/e314e1176bfbbe6c3b6cf4e8fa0620cafad8f8bad04203c55881e9cb2fb0/nengo-2.8.0-py2.py3-none-any.whl (375kB)\n",
            "\r\u001b[K     |▉                               | 10kB 13.9MB/s eta 0:00:01\r\u001b[K     |█▊                              | 20kB 17.2MB/s eta 0:00:01\r\u001b[K     |██▋                             | 30kB 20.1MB/s eta 0:00:01\r\u001b[K     |███▌                            | 40kB 22.8MB/s eta 0:00:01\r\u001b[K     |████▍                           | 51kB 21.9MB/s eta 0:00:01\r\u001b[K     |█████▎                          | 61kB 23.3MB/s eta 0:00:01\r\u001b[K     |██████                          | 71kB 23.4MB/s eta 0:00:01\r\u001b[K     |███████                         | 81kB 24.2MB/s eta 0:00:01\r\u001b[K     |███████▉                        | 92kB 25.3MB/s eta 0:00:01\r\u001b[K     |████████▊                       | 102kB 23.9MB/s eta 0:00:01\r\u001b[K     |█████████▋                      | 112kB 23.9MB/s eta 0:00:01\r\u001b[K     |██████████▌                     | 122kB 23.9MB/s eta 0:00:01\r\u001b[K     |███████████▍                    | 133kB 23.9MB/s eta 0:00:01\r\u001b[K     |████████████▏                   | 143kB 23.9MB/s eta 0:00:01\r\u001b[K     |█████████████                   | 153kB 23.9MB/s eta 0:00:01\r\u001b[K     |██████████████                  | 163kB 23.9MB/s eta 0:00:01\r\u001b[K     |██████████████▉                 | 174kB 23.9MB/s eta 0:00:01\r\u001b[K     |███████████████▊                | 184kB 23.9MB/s eta 0:00:01\r\u001b[K     |████████████████▋               | 194kB 23.9MB/s eta 0:00:01\r\u001b[K     |█████████████████▍              | 204kB 23.9MB/s eta 0:00:01\r\u001b[K     |██████████████████▎             | 215kB 23.9MB/s eta 0:00:01\r\u001b[K     |███████████████████▏            | 225kB 23.9MB/s eta 0:00:01\r\u001b[K     |████████████████████            | 235kB 23.9MB/s eta 0:00:01\r\u001b[K     |█████████████████████           | 245kB 23.9MB/s eta 0:00:01\r\u001b[K     |█████████████████████▉          | 256kB 23.9MB/s eta 0:00:01\r\u001b[K     |██████████████████████▊         | 266kB 23.9MB/s eta 0:00:01\r\u001b[K     |███████████████████████▌        | 276kB 23.9MB/s eta 0:00:01\r\u001b[K     |████████████████████████▍       | 286kB 23.9MB/s eta 0:00:01\r\u001b[K     |█████████████████████████▎      | 296kB 23.9MB/s eta 0:00:01\r\u001b[K     |██████████████████████████▏     | 307kB 23.9MB/s eta 0:00:01\r\u001b[K     |███████████████████████████     | 317kB 23.9MB/s eta 0:00:01\r\u001b[K     |████████████████████████████    | 327kB 23.9MB/s eta 0:00:01\r\u001b[K     |████████████████████████████▊   | 337kB 23.9MB/s eta 0:00:01\r\u001b[K     |█████████████████████████████▋  | 348kB 23.9MB/s eta 0:00:01\r\u001b[K     |██████████████████████████████▌ | 358kB 23.9MB/s eta 0:00:01\r\u001b[K     |███████████████████████████████▍| 368kB 23.9MB/s eta 0:00:01\r\u001b[K     |████████████████████████████████| 378kB 23.9MB/s \n",
            "\u001b[?25hRequirement already satisfied: numpy>=1.8 in /usr/local/lib/python2.7/dist-packages (from nengo) (1.16.4)\n",
            "Installing collected packages: nengo\n",
            "Successfully installed nengo-2.8.0\n"
          ]
        }
      ]
    },
    {
      "cell_type": "code",
      "metadata": {
        "collapsed": true,
        "id": "lyBPVbwO53om"
      },
      "source": [
        "from IPython.core.display import HTML"
      ],
      "execution_count": 2,
      "outputs": []
    },
    {
      "cell_type": "markdown",
      "metadata": {
        "id": "uaCoPbRa53o2"
      },
      "source": [
        "## Hopfield Network"
      ]
    },
    {
      "cell_type": "markdown",
      "metadata": {
        "id": "H_hKcNk153o9"
      },
      "source": [
        "This is a hopfield net with pre-calculated weight matrix based on the initial model suggested by John Hopfield. The calculation of the weight matrix is based on the hebbian learning rule. W<sub>ij</sub> = (2V<sub>i</sub> - 1)(2V<sub>j</sub> - 1) where V is a pattern to be stored in the network. In case we want to store multiple patterns, W<sub>ij</sub> = sum of (2V<sub>i</sub> - 1)(2V<sub>j</sub> - 1) calculated for each pattern. Maximum number of patterns which can be stored in a hopfield net having n nodes = N/2logN. \n",
        " \n",
        "In this example, \n",
        "<br>mode 1 => has only one pattern stored in the network leading to one attractor (0101)\n",
        "<br>mode 2 => has two patterns stored in the network leading to two attractors (01101,10101)\n",
        "\n",
        "The network is perturbed with a random initial input and then allowed to settle. The value of the ensemble settles down at the attractor which is closest to the initial input. Though the network is not guaranteed to settle at one of the attractors, the probability of settling at an attractor is high if the input is close to one of the attractors. \n",
        "\n",
        "For example, if the initial input in mode 2 is 01100, the network will settle to 01101. This is because this initial input is closer to the attractor 01101 (only one bit flip) as compared to the attractor 10101 (3 bit flips)."
      ]
    },
    {
      "cell_type": "code",
      "metadata": {
        "id": "Y81mAGJa53pC"
      },
      "source": [
        "%matplotlib inline\n",
        "import nengo\n",
        "from nengo.dists import Uniform\n",
        "from nengo.utils.ensemble import response_curves\n",
        "import matplotlib.pyplot as plt\n",
        "import numpy as np\n",
        "\n",
        "   \n",
        "mode = 2\n",
        "if mode == 1:\n",
        "    N = 4      #number of neurons\n",
        "    start =   np.random.rand(N)  \n",
        "    #start =  np.array([0,1,0,1])   #single attractor\n",
        "    #start =  np.array([0,1,0,0])   #All these vectors are just 1 bit flip away \n",
        "    #start =  np.array([1,1,0,1])   #from the single attractor in the network, so  \n",
        "    #start =  np.array([0,1,1,1])   #using any of them as initial input will make  \n",
        "    #start =  np.array([0,0,0,1])   #the network settle at the attractor 0101.\n",
        "    weights = np.matrix('0 -1 1 -1; -1 0 -1 1; 1 -1 0 -1; -1 1 -1 0')\n",
        "    \n",
        "elif mode == 2:\n",
        "    N = 5       #number of neurons\n",
        "    start =   np.random.rand(N)\n",
        "    #start =  np.array([0,1,1,0,1])   #first attractor\n",
        "    #start =  np.array([0,1,1,0,0])   #Using any of these three vectors as initial input\n",
        "    #start =  np.array([0,1,1,1,1])   #will make the network settle at the first attractor 01101\n",
        "    #start =  np.array([0,1,0,0,1])   #since they are all just 1 bit flip away from it.\n",
        "    \n",
        "    #start =  np.array([1,0,1,0,1])   #second attractor\n",
        "    #start =  np.array([1,0,1,0,0])   #Using any of these three vectors as initial input\n",
        "    #start =  np.array([1,0,1,1,1])   #will make the network settle at the second attractor 10101\n",
        "    #start =  np.array([1,0,0,0,1])   #since they are all just 1 bit flip away from it.\n",
        "    \n",
        "    weights = np.matrix('0 -2 0 0 0; -2 0 0 0 0; 0 0 0 -2 2; 0 0 -2 0 -2; 0 0 2 -2 0')"
      ],
      "execution_count": 3,
      "outputs": []
    },
    {
      "cell_type": "code",
      "metadata": {
        "scrolled": false,
        "id": "I9CPYgWh53pK",
        "outputId": "0136ca51-c53a-4dd7-a7cb-e85313d013bc",
        "colab": {
          "base_uri": "https://localhost:8080/",
          "height": 75
        }
      },
      "source": [
        "model = nengo.Network('Hopfield net')\n",
        "\n",
        "with model:\n",
        "    stim = nengo.Node(lambda t: start if (t<=.1) else [0]*N)\n",
        "    ens = nengo.Ensemble(N, dimensions=N, \n",
        "                         encoders=np.eye(N), \n",
        "                         max_rates=Uniform(.999,.999),\n",
        "                         intercepts=Uniform(-1,-1),\n",
        "                         neuron_type=nengo.neurons.Sigmoid(tau_ref=1))\n",
        "    \n",
        "    conn = nengo.Connection(ens, ens, transform=weights, synapse=0)\n",
        "    nengo.Connection(stim, ens, synapse=0)\n",
        "    \n",
        "    stim_p = nengo.Probe(stim)\n",
        "    ens_p = nengo.Probe(ens.neurons, 'rates')   \n",
        "    \n",
        "sim = nengo.Simulator(model)\n",
        "sim.run(3)\n",
        "t = sim.trange()   "
      ],
      "execution_count": 4,
      "outputs": [
        {
          "output_type": "display_data",
          "data": {
            "text/plain": [
              "HtmlProgressBar cannot be displayed. Please use the TerminalProgressBar. It can be enabled with `nengo.rc.set('progress', 'progress_bar', 'nengo.utils.progress.TerminalProgressBar')`."
            ],
            "text/html": [
              "\n",
              "                <div id=\"9ad63646-b206-404a-95d7-f64028e77abe\" style=\"\n",
              "                    width: 100%;\n",
              "                    border: 1px solid #cfcfcf;\n",
              "                    border-radius: 4px;\n",
              "                    text-align: center;\n",
              "                    position: relative;\">\n",
              "                  <div class=\"pb-text\" style=\"\n",
              "                      position: absolute;\n",
              "                      width: 100%;\">\n",
              "                    0%\n",
              "                  </div>\n",
              "                  <div class=\"pb-fill\" style=\"\n",
              "                      background-color: #bdd2e6;\n",
              "                      width: 0%;\">\n",
              "                    <style type=\"text/css\" scoped=\"scoped\">\n",
              "                        @keyframes pb-fill-anim {\n",
              "                            0% { background-position: 0 0; }\n",
              "                            100% { background-position: 100px 0; }\n",
              "                        }\n",
              "                    </style>\n",
              "                    &nbsp;\n",
              "                  </div>\n",
              "                </div>"
            ]
          },
          "metadata": {}
        },
        {
          "output_type": "display_data",
          "data": {
            "application/javascript": [
              "\n",
              "              (function () {\n",
              "                  var root = document.getElementById('9ad63646-b206-404a-95d7-f64028e77abe');\n",
              "                  var text = root.getElementsByClassName('pb-text')[0];\n",
              "                  var fill = root.getElementsByClassName('pb-fill')[0];\n",
              "\n",
              "                  text.innerHTML = 'Build finished in 0:00:01.';\n",
              "                  \n",
              "            fill.style.width = '100%';\n",
              "            fill.style.animation = 'pb-fill-anim 2s linear infinite';\n",
              "            fill.style.backgroundSize = '100px 100%';\n",
              "            fill.style.backgroundImage = 'repeating-linear-gradient(' +\n",
              "                '90deg, #bdd2e6, #edf2f8 40%, #bdd2e6 80%, #bdd2e6)';\n",
              "        \n",
              "                  \n",
              "                fill.style.animation = 'none';\n",
              "                fill.style.backgroundImage = 'none';\n",
              "            \n",
              "              })();\n",
              "        "
            ],
            "text/plain": [
              "<IPython.core.display.Javascript object>"
            ]
          },
          "metadata": {}
        },
        {
          "output_type": "display_data",
          "data": {
            "text/plain": [
              "HtmlProgressBar cannot be displayed. Please use the TerminalProgressBar. It can be enabled with `nengo.rc.set('progress', 'progress_bar', 'nengo.utils.progress.TerminalProgressBar')`."
            ],
            "text/html": [
              "\n",
              "                <div id=\"bf0e44a0-81b6-4f5d-a11c-aaaaa20ad9c6\" style=\"\n",
              "                    width: 100%;\n",
              "                    border: 1px solid #cfcfcf;\n",
              "                    border-radius: 4px;\n",
              "                    text-align: center;\n",
              "                    position: relative;\">\n",
              "                  <div class=\"pb-text\" style=\"\n",
              "                      position: absolute;\n",
              "                      width: 100%;\">\n",
              "                    0%\n",
              "                  </div>\n",
              "                  <div class=\"pb-fill\" style=\"\n",
              "                      background-color: #bdd2e6;\n",
              "                      width: 0%;\">\n",
              "                    <style type=\"text/css\" scoped=\"scoped\">\n",
              "                        @keyframes pb-fill-anim {\n",
              "                            0% { background-position: 0 0; }\n",
              "                            100% { background-position: 100px 0; }\n",
              "                        }\n",
              "                    </style>\n",
              "                    &nbsp;\n",
              "                  </div>\n",
              "                </div>"
            ]
          },
          "metadata": {}
        },
        {
          "output_type": "display_data",
          "data": {
            "application/javascript": [
              "\n",
              "              (function () {\n",
              "                  var root = document.getElementById('bf0e44a0-81b6-4f5d-a11c-aaaaa20ad9c6');\n",
              "                  var text = root.getElementsByClassName('pb-text')[0];\n",
              "                  var fill = root.getElementsByClassName('pb-fill')[0];\n",
              "\n",
              "                  text.innerHTML = 'Simulation finished in 0:00:01.';\n",
              "                  \n",
              "            if (100.0 > 0.) {\n",
              "                fill.style.transition = 'width 0.1s linear';\n",
              "            } else {\n",
              "                fill.style.transition = 'none';\n",
              "            }\n",
              "\n",
              "            fill.style.width = '100.0%';\n",
              "            fill.style.animation = 'none';\n",
              "            fill.style.backgroundImage = 'none'\n",
              "        \n",
              "                  \n",
              "                fill.style.animation = 'none';\n",
              "                fill.style.backgroundImage = 'none';\n",
              "            \n",
              "              })();\n",
              "        "
            ],
            "text/plain": [
              "<IPython.core.display.Javascript object>"
            ]
          },
          "metadata": {}
        }
      ]
    },
    {
      "cell_type": "code",
      "metadata": {
        "id": "XBZRz0zp53pO",
        "outputId": "20dedaf6-f12c-425e-8bff-97f54822e0f4",
        "colab": {
          "base_uri": "https://localhost:8080/",
          "height": 478
        }
      },
      "source": [
        "fig = plt.figure(figsize=(12, 3))\n",
        "p0 = plt.subplot(1, 2, 1)\n",
        "p0.plot(*response_curves(ens, sim));\n",
        "p0.set_title(\"Response curves\")\n",
        "\n",
        "p1 = plt.subplot(1, 2, 2)\n",
        "p1.matshow(weights);\n",
        "p1.set_title(\"Weigths\")\n",
        "\n",
        "print \"\\nMode:\", mode\n",
        "\n",
        "print \"\\nWeights\"\n",
        "print weights\n",
        "\n",
        "print \"\\nStimulus provided to the network (stim)\"\n",
        "print sim.data[stim_p][0]\n",
        "\n",
        "print \"\\nFinal Ensemble Value (ens)\"\n",
        "print sim.data[ens_p][-1]"
      ],
      "execution_count": 5,
      "outputs": [
        {
          "output_type": "stream",
          "name": "stdout",
          "text": [
            "\n",
            "Mode: 2\n",
            "\n",
            "Weights\n",
            "[[ 0 -2  0  0  0]\n",
            " [-2  0  0  0  0]\n",
            " [ 0  0  0 -2  2]\n",
            " [ 0  0 -2  0 -2]\n",
            " [ 0  0  2 -2  0]]\n",
            "\n",
            "Stimulus provided to the network (stim)\n",
            "[0.02383621 0.92054504 0.65691657 0.05463428 0.49058536]\n",
            "\n",
            "Final Ensemble Value (ens)\n",
            "[0.96439155 0.9700493  0.97587658 0.95783686 0.97612596]\n"
          ]
        },
        {
          "output_type": "display_data",
          "data": {
            "image/png": "[encoded data removed]",
            "text/plain": [
              "<Figure size 864x216 with 2 Axes>"
            ]
          },
          "metadata": {
            "needs_background": "light"
          }
        }
      ]
    },
    {
      "cell_type": "markdown",
      "metadata": {
        "id": "1ybnfgsQ53pQ"
      },
      "source": [
        "The above output shows that when a random initial stimulus is provided to the network in mode 1, the ensemble value settles down to 0101 i.e., at the attractor for mode1."
      ]
    },
    {
      "cell_type": "code",
      "metadata": {
        "id": "_mBu72P353pT",
        "outputId": "6d778523-16e8-44e9-d83c-a5372099b583",
        "colab": {
          "base_uri": "https://localhost:8080/",
          "height": 536
        }
      },
      "source": [
        "sim = nengo.Simulator(model)\n",
        "sim.run(3)\n",
        "t = sim.trange()\n",
        "\n",
        "fig = plt.figure(figsize=(12, 3))\n",
        "p0 = plt.subplot(1, 2, 1)\n",
        "p0.plot(*response_curves(ens, sim));\n",
        "p0.set_title(\"Response curves\")\n",
        "\n",
        "p1 = plt.subplot(1, 2, 2)\n",
        "p1.matshow(weights);\n",
        "p1.set_title(\"Weigths\")\n",
        "\n",
        "print \"\\nMode:\", mode\n",
        "\n",
        "print \"\\nWeights\"\n",
        "print weights\n",
        "\n",
        "print \"\\nStimulus provided to the network (stim)\"\n",
        "print sim.data[stim_p][0]\n",
        "\n",
        "print \"\\nFinal Ensemble Value (ens)\"\n",
        "print sim.data[ens_p][-1]"
      ],
      "execution_count": 6,
      "outputs": [
        {
          "output_type": "display_data",
          "data": {
            "text/plain": [
              "HtmlProgressBar cannot be displayed. Please use the TerminalProgressBar. It can be enabled with `nengo.rc.set('progress', 'progress_bar', 'nengo.utils.progress.TerminalProgressBar')`."
            ],
            "text/html": [
              "\n",
              "                <div id=\"9651cbd9-5551-4004-ab51-87eadc01108d\" style=\"\n",
              "                    width: 100%;\n",
              "                    border: 1px solid #cfcfcf;\n",
              "                    border-radius: 4px;\n",
              "                    text-align: center;\n",
              "                    position: relative;\">\n",
              "                  <div class=\"pb-text\" style=\"\n",
              "                      position: absolute;\n",
              "                      width: 100%;\">\n",
              "                    0%\n",
              "                  </div>\n",
              "                  <div class=\"pb-fill\" style=\"\n",
              "                      background-color: #bdd2e6;\n",
              "                      width: 0%;\">\n",
              "                    <style type=\"text/css\" scoped=\"scoped\">\n",
              "                        @keyframes pb-fill-anim {\n",
              "                            0% { background-position: 0 0; }\n",
              "                            100% { background-position: 100px 0; }\n",
              "                        }\n",
              "                    </style>\n",
              "                    &nbsp;\n",
              "                  </div>\n",
              "                </div>"
            ]
          },
          "metadata": {}
        },
        {
          "output_type": "display_data",
          "data": {
            "application/javascript": [
              "\n",
              "              (function () {\n",
              "                  var root = document.getElementById('9651cbd9-5551-4004-ab51-87eadc01108d');\n",
              "                  var text = root.getElementsByClassName('pb-text')[0];\n",
              "                  var fill = root.getElementsByClassName('pb-fill')[0];\n",
              "\n",
              "                  text.innerHTML = 'Build finished in 0:00:01.';\n",
              "                  \n",
              "            fill.style.width = '100%';\n",
              "            fill.style.animation = 'pb-fill-anim 2s linear infinite';\n",
              "            fill.style.backgroundSize = '100px 100%';\n",
              "            fill.style.backgroundImage = 'repeating-linear-gradient(' +\n",
              "                '90deg, #bdd2e6, #edf2f8 40%, #bdd2e6 80%, #bdd2e6)';\n",
              "        \n",
              "                  \n",
              "                fill.style.animation = 'none';\n",
              "                fill.style.backgroundImage = 'none';\n",
              "            \n",
              "              })();\n",
              "        "
            ],
            "text/plain": [
              "<IPython.core.display.Javascript object>"
            ]
          },
          "metadata": {}
        },
        {
          "output_type": "display_data",
          "data": {
            "text/plain": [
              "HtmlProgressBar cannot be displayed. Please use the TerminalProgressBar. It can be enabled with `nengo.rc.set('progress', 'progress_bar', 'nengo.utils.progress.TerminalProgressBar')`."
            ],
            "text/html": [
              "\n",
              "                <div id=\"aac2cbac-a838-4c5d-9acc-a4686169d3e4\" style=\"\n",
              "                    width: 100%;\n",
              "                    border: 1px solid #cfcfcf;\n",
              "                    border-radius: 4px;\n",
              "                    text-align: center;\n",
              "                    position: relative;\">\n",
              "                  <div class=\"pb-text\" style=\"\n",
              "                      position: absolute;\n",
              "                      width: 100%;\">\n",
              "                    0%\n",
              "                  </div>\n",
              "                  <div class=\"pb-fill\" style=\"\n",
              "                      background-color: #bdd2e6;\n",
              "                      width: 0%;\">\n",
              "                    <style type=\"text/css\" scoped=\"scoped\">\n",
              "                        @keyframes pb-fill-anim {\n",
              "                            0% { background-position: 0 0; }\n",
              "                            100% { background-position: 100px 0; }\n",
              "                        }\n",
              "                    </style>\n",
              "                    &nbsp;\n",
              "                  </div>\n",
              "                </div>"
            ]
          },
          "metadata": {}
        },
        {
          "output_type": "display_data",
          "data": {
            "application/javascript": [
              "\n",
              "              (function () {\n",
              "                  var root = document.getElementById('aac2cbac-a838-4c5d-9acc-a4686169d3e4');\n",
              "                  var text = root.getElementsByClassName('pb-text')[0];\n",
              "                  var fill = root.getElementsByClassName('pb-fill')[0];\n",
              "\n",
              "                  text.innerHTML = 'Simulation finished in 0:00:01.';\n",
              "                  \n",
              "            if (100.0 > 0.) {\n",
              "                fill.style.transition = 'width 0.1s linear';\n",
              "            } else {\n",
              "                fill.style.transition = 'none';\n",
              "            }\n",
              "\n",
              "            fill.style.width = '100.0%';\n",
              "            fill.style.animation = 'none';\n",
              "            fill.style.backgroundImage = 'none'\n",
              "        \n",
              "                  \n",
              "                fill.style.animation = 'none';\n",
              "                fill.style.backgroundImage = 'none';\n",
              "            \n",
              "              })();\n",
              "        "
            ],
            "text/plain": [
              "<IPython.core.display.Javascript object>"
            ]
          },
          "metadata": {}
        },
        {
          "output_type": "stream",
          "name": "stdout",
          "text": [
            "\n",
            "Mode: 2\n",
            "\n",
            "Weights\n",
            "[[ 0 -2  0  0  0]\n",
            " [-2  0  0  0  0]\n",
            " [ 0  0  0 -2  2]\n",
            " [ 0  0 -2  0 -2]\n",
            " [ 0  0  2 -2  0]]\n",
            "\n",
            "Stimulus provided to the network (stim)\n",
            "[0.02383621 0.92054504 0.65691657 0.05463428 0.49058536]\n",
            "\n",
            "Final Ensemble Value (ens)\n",
            "[0.9686576  0.96934926 0.97428394 0.96173463 0.97278785]\n"
          ]
        },
        {
          "output_type": "display_data",
          "data": {
            "image/png": "[encoded data removed]",
            "text/plain": [
              "<Figure size 864x216 with 2 Axes>"
            ]
          },
          "metadata": {
            "needs_background": "light"
          }
        }
      ]
    },
    {
      "cell_type": "markdown",
      "metadata": {
        "id": "Rn75Llor53pV"
      },
      "source": [
        "The above output shows that when a random initial stimulus is provided to the network in mode 2, the ensemble value settles down to 01101 i.e., at one of the attractors for mode2."
      ]
    }
  ]
}