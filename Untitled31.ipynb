{
  "nbformat": 4,
  "nbformat_minor": 0,
  "metadata": {
    "colab": {
      "name": "Untitled31.ipynb",
      "provenance": []
    },
    "kernelspec": {
      "name": "python3",
      "display_name": "Python 3"
    },
    "language_info": {
      "name": "python"
    }
  },
  "cells": [
    {
      "cell_type": "code",
      "metadata": {
        "colab": {
          "base_uri": "https://localhost:8080/"
        },
        "id": "e6Fr6W02_Lsb",
        "outputId": "01cf905f-316f-4be1-9411-c97561dfa19c"
      },
      "source": [
        "!pip install nengo\n",
        "!pip install nengo_spa"
      ],
      "execution_count": 3,
      "outputs": [
        {
          "output_type": "stream",
          "name": "stdout",
          "text": [
            "Requirement already satisfied: nengo in /usr/local/lib/python3.7/dist-packages (3.1.0)\n",
            "Requirement already satisfied: numpy>=1.13 in /usr/local/lib/python3.7/dist-packages (from nengo) (1.19.5)\n",
            "Collecting nengo_spa\n",
            "  Downloading nengo_spa-1.2.0-py2.py3-none-any.whl (123 kB)\n",
            "\u001b[K     |████████████████████████████████| 123 kB 5.1 MB/s \n",
            "\u001b[?25hRequirement already satisfied: numpy>=1.8 in /usr/local/lib/python3.7/dist-packages (from nengo_spa) (1.19.5)\n",
            "Requirement already satisfied: nengo>=2.7 in /usr/local/lib/python3.7/dist-packages (from nengo_spa) (3.1.0)\n",
            "Installing collected packages: nengo-spa\n",
            "Successfully installed nengo-spa-1.2.0\n"
          ]
        }
      ]
    },
    {
      "cell_type": "code",
      "metadata": {
        "id": "Z9Gbead3_Z5U"
      },
      "source": [
        "%matplotlib inline\n",
        "\n",
        "import matplotlib.pyplot as plt\n",
        "import nengo\n",
        "import numpy as np\n",
        "\n",
        "import nengo_spa as spa\n",
        "\n",
        "# Change the seed of this RNG to change the vocabulary\n",
        "rng = np.random.RandomState(0)"
      ],
      "execution_count": 4,
      "outputs": []
    },
    {
      "cell_type": "code",
      "metadata": {
        "id": "3dV9nOA0_hXO"
      },
      "source": [
        "d = 16\n",
        "vocab1 = spa.Vocabulary(16, pointer_gen=rng)\n",
        "vocab2 = spa.Vocabulary(16, pointer_gen=rng)\n",
        "\n",
        "with spa.Network() as model:\n",
        "    state1 = spa.State(vocab=vocab1)\n",
        "    state2 = spa.State(vocab=vocab2)"
      ],
      "execution_count": 5,
      "outputs": []
    },
    {
      "cell_type": "code",
      "metadata": {
        "id": "DsPhnzFh_n6B"
      },
      "source": [
        "d1 = 16\n",
        "d2 = 16\n",
        "vocab1 = spa.Vocabulary(d1, pointer_gen=rng)\n",
        "vocab1.populate(\"A\")\n",
        "vocab2 = spa.Vocabulary(d2, pointer_gen=rng)\n",
        "vocab2.populate(\"A\")\n",
        "\n",
        "with spa.Network() as model:\n",
        "    state1 = spa.State(vocab=vocab1)\n",
        "    state2 = spa.State(vocab=vocab2)\n",
        "    spa.sym.A >> state1\n",
        "    spa.reinterpret(state1) >> state2\n",
        "\n",
        "    p = nengo.Probe(state2.output, synapse=0.03)"
      ],
      "execution_count": 6,
      "outputs": []
    },
    {
      "cell_type": "code",
      "metadata": {
        "colab": {
          "base_uri": "https://localhost:8080/",
          "height": 75
        },
        "id": "SzXINvlp_ri5",
        "outputId": "98710d95-537e-485f-b3eb-c6af0386465d"
      },
      "source": [
        "with nengo.Simulator(model) as sim:\n",
        "    sim.run(0.5)"
      ],
      "execution_count": 7,
      "outputs": [
        {
          "output_type": "display_data",
          "data": {
            "application/vdom.v1+json": {
              "attributes": {},
              "tagName": "div"
            },
            "text/plain": [
              "HtmlProgressBar cannot be displayed. Please use the TerminalProgressBar. It can be enabled with `nengo.rc['progress']['progress_bar'] = 'nengo.utils.progress.TerminalProgressBar'`."
            ],
            "text/html": [
              "\n",
              "                <script>\n",
              "                    if (Jupyter.version.split(\".\")[0] < 5) {\n",
              "                        var pb = document.getElementById(\"24da95c0-83be-4952-a868-9ea6153dddce\");\n",
              "                        var text = document.createTextNode(\n",
              "                            \"HMTL progress bar requires Jupyter Notebook >= \" +\n",
              "                            \"5.0 or Jupyter Lab. Alternatively, you can use \" +\n",
              "                            \"TerminalProgressBar().\");\n",
              "                        pb.parentNode.insertBefore(text, pb);\n",
              "                    }\n",
              "                </script>\n",
              "                <div id=\"24da95c0-83be-4952-a868-9ea6153dddce\" style=\"\n",
              "                    width: 100%;\n",
              "                    border: 1px solid #cfcfcf;\n",
              "                    border-radius: 4px;\n",
              "                    text-align: center;\n",
              "                    position: relative;\">\n",
              "                  <div class=\"pb-text\" style=\"\n",
              "                      position: absolute;\n",
              "                      width: 100%;\">\n",
              "                    0%\n",
              "                  </div>\n",
              "                  <div class=\"pb-fill\" style=\"\n",
              "                      background-color: #bdd2e6;\n",
              "                      width: 0%;\">\n",
              "                    <style type=\"text/css\" scoped=\"scoped\">\n",
              "                        @keyframes pb-fill-anim {\n",
              "                            0% { background-position: 0 0; }\n",
              "                            100% { background-position: 100px 0; }\n",
              "                        }\n",
              "                    </style>\n",
              "                    &nbsp;\n",
              "                  </div>\n",
              "                </div>"
            ]
          },
          "metadata": {}
        },
        {
          "output_type": "display_data",
          "data": {
            "application/vdom.v1+json": {
              "attributes": {
                "style": {
                  "boxSizing": "border-box",
                  "width": "100%",
                  "position": "relative",
                  "border": "1px solid #cfcfcf",
                  "textAlign": "center",
                  "borderRadius": "4px"
                },
                "id": "59d28c65-ab72-4a87-afc4-a29d40df57df"
              },
              "children": [
                {
                  "attributes": {
                    "style": {
                      "position": "absolute",
                      "width": "100%"
                    },
                    "class": "pb-text"
                  },
                  "children": [
                    "Build finished in 0:00:01."
                  ],
                  "tagName": "div"
                },
                {
                  "attributes": {
                    "style": {
                      "width": "100%",
                      "animation": "none",
                      "backgroundImage": "none",
                      "backgroundColor": "#bdd2e6",
                      "backgroundSize": "100px 100%"
                    },
                    "class": "pb-fill"
                  },
                  "children": [
                    {
                      "attributes": {
                        "type": "text/css",
                        "scoped": "scoped"
                      },
                      "children": [
                        "\n                        @keyframes pb-fill-anim {\n                            0% { background-position: 0 0; }\n                            100% { background-position: 100px 0; }\n                        }}"
                      ],
                      "tagName": "style"
                    },
                    " "
                  ],
                  "tagName": "div"
                }
              ],
              "tagName": "div"
            },
            "text/html": [
              "<script>\n",
              "              (function () {\n",
              "                  var root = document.getElementById('24da95c0-83be-4952-a868-9ea6153dddce');\n",
              "                  var text = root.getElementsByClassName('pb-text')[0];\n",
              "                  var fill = root.getElementsByClassName('pb-fill')[0];\n",
              "\n",
              "                  text.innerHTML = 'Build finished in 0:00:01.';\n",
              "                  \n",
              "            fill.style.width = '100%';\n",
              "            fill.style.animation = 'pb-fill-anim 2s linear infinite';\n",
              "            fill.style.backgroundSize = '100px 100%';\n",
              "            fill.style.backgroundImage = 'repeating-linear-gradient(' +\n",
              "                '90deg, #bdd2e6, #edf2f8 40%, #bdd2e6 80%, #bdd2e6)';\n",
              "        \n",
              "                  \n",
              "                fill.style.animation = 'none';\n",
              "                fill.style.backgroundImage = 'none';\n",
              "            \n",
              "              })();\n",
              "        </script>"
            ]
          },
          "metadata": {}
        },
        {
          "output_type": "display_data",
          "data": {
            "application/vdom.v1+json": {
              "attributes": {},
              "tagName": "div"
            },
            "text/plain": [
              "HtmlProgressBar cannot be displayed. Please use the TerminalProgressBar. It can be enabled with `nengo.rc['progress']['progress_bar'] = 'nengo.utils.progress.TerminalProgressBar'`."
            ],
            "text/html": [
              "\n",
              "                <script>\n",
              "                    if (Jupyter.version.split(\".\")[0] < 5) {\n",
              "                        var pb = document.getElementById(\"b316550b-4587-4b8e-bd75-3cfde16f50ce\");\n",
              "                        var text = document.createTextNode(\n",
              "                            \"HMTL progress bar requires Jupyter Notebook >= \" +\n",
              "                            \"5.0 or Jupyter Lab. Alternatively, you can use \" +\n",
              "                            \"TerminalProgressBar().\");\n",
              "                        pb.parentNode.insertBefore(text, pb);\n",
              "                    }\n",
              "                </script>\n",
              "                <div id=\"b316550b-4587-4b8e-bd75-3cfde16f50ce\" style=\"\n",
              "                    width: 100%;\n",
              "                    border: 1px solid #cfcfcf;\n",
              "                    border-radius: 4px;\n",
              "                    text-align: center;\n",
              "                    position: relative;\">\n",
              "                  <div class=\"pb-text\" style=\"\n",
              "                      position: absolute;\n",
              "                      width: 100%;\">\n",
              "                    0%\n",
              "                  </div>\n",
              "                  <div class=\"pb-fill\" style=\"\n",
              "                      background-color: #bdd2e6;\n",
              "                      width: 0%;\">\n",
              "                    <style type=\"text/css\" scoped=\"scoped\">\n",
              "                        @keyframes pb-fill-anim {\n",
              "                            0% { background-position: 0 0; }\n",
              "                            100% { background-position: 100px 0; }\n",
              "                        }\n",
              "                    </style>\n",
              "                    &nbsp;\n",
              "                  </div>\n",
              "                </div>"
            ]
          },
          "metadata": {}
        },
        {
          "output_type": "display_data",
          "data": {
            "application/vdom.v1+json": {
              "attributes": {
                "style": {
                  "boxSizing": "border-box",
                  "width": "100%",
                  "position": "relative",
                  "border": "1px solid #cfcfcf",
                  "textAlign": "center",
                  "borderRadius": "4px"
                },
                "id": "731fa8ef-8c70-4a8b-a42d-8160b39c0077"
              },
              "children": [
                {
                  "attributes": {
                    "style": {
                      "position": "absolute",
                      "width": "100%"
                    },
                    "class": "pb-text"
                  },
                  "children": [
                    "Simulation finished in 0:00:01."
                  ],
                  "tagName": "div"
                },
                {
                  "attributes": {
                    "style": {
                      "width": "100%",
                      "animation": "none",
                      "backgroundImage": "none",
                      "backgroundColor": "#bdd2e6",
                      "transition": "width 0.1s linear"
                    },
                    "class": "pb-fill"
                  },
                  "children": [
                    {
                      "attributes": {
                        "type": "text/css",
                        "scoped": "scoped"
                      },
                      "children": [
                        "\n                        @keyframes pb-fill-anim {\n                            0% { background-position: 0 0; }\n                            100% { background-position: 100px 0; }\n                        }}"
                      ],
                      "tagName": "style"
                    },
                    " "
                  ],
                  "tagName": "div"
                }
              ],
              "tagName": "div"
            },
            "text/html": [
              "<script>\n",
              "              (function () {\n",
              "                  var root = document.getElementById('b316550b-4587-4b8e-bd75-3cfde16f50ce');\n",
              "                  var text = root.getElementsByClassName('pb-text')[0];\n",
              "                  var fill = root.getElementsByClassName('pb-fill')[0];\n",
              "\n",
              "                  text.innerHTML = 'Simulation finished in 0:00:01.';\n",
              "                  \n",
              "            if (100.0 > 0.) {\n",
              "                fill.style.transition = 'width 0.1s linear';\n",
              "            } else {\n",
              "                fill.style.transition = 'none';\n",
              "            }\n",
              "\n",
              "            fill.style.width = '100.0%';\n",
              "            fill.style.animation = 'none';\n",
              "            fill.style.backgroundImage = 'none'\n",
              "        \n",
              "                  \n",
              "                fill.style.animation = 'none';\n",
              "                fill.style.backgroundImage = 'none';\n",
              "            \n",
              "              })();\n",
              "        </script>"
            ]
          },
          "metadata": {}
        }
      ]
    },
    {
      "cell_type": "code",
      "metadata": {
        "colab": {
          "base_uri": "https://localhost:8080/",
          "height": 295
        },
        "id": "L7remz_I_wNg",
        "outputId": "0de899a0-c970-414e-b2b9-76d4988b237d"
      },
      "source": [
        "plt.plot(sim.trange(), spa.similarity(sim.data[p], vocab1), label=\"vocab1\")\n",
        "plt.plot(sim.trange(), spa.similarity(sim.data[p], vocab2), label=\"vocab2\")\n",
        "plt.xlabel(\"Time [s]\")\n",
        "plt.ylabel(\"Similarity\")\n",
        "plt.legend(loc=\"best\")"
      ],
      "execution_count": 8,
      "outputs": [
        {
          "output_type": "execute_result",
          "data": {
            "text/plain": [
              "<matplotlib.legend.Legend at 0x7f777903c310>"
            ]
          },
          "metadata": {},
          "execution_count": 8
        },
        {
          "output_type": "display_data",
          "data": {
            "image/png": "[encoded data removed]",
            "text/plain": [
              "<Figure size 432x288 with 1 Axes>"
            ]
          },
          "metadata": {
            "needs_background": "light"
          }
        }
      ]
    },
    {
      "cell_type": "code",
      "metadata": {
        "id": "L7oZP6i3_z9t"
      },
      "source": [
        "d1 = 16\n",
        "d2 = 32\n",
        "vocab1 = spa.Vocabulary(d1, pointer_gen=rng)\n",
        "vocab1.populate(\"A\")\n",
        "vocab2 = spa.Vocabulary(d2, pointer_gen=rng)\n",
        "vocab2.populate(\"A\")\n",
        "\n",
        "with spa.Network() as model:\n",
        "    state1 = spa.State(vocab=vocab1)\n",
        "    state2 = spa.State(vocab=vocab2)\n",
        "    spa.sym.A >> state1\n",
        "    spa.translate(state1, vocab2) >> state2\n",
        "\n",
        "    p = nengo.Probe(state2.output, synapse=0.03)"
      ],
      "execution_count": 14,
      "outputs": []
    },
    {
      "cell_type": "code",
      "metadata": {
        "colab": {
          "base_uri": "https://localhost:8080/",
          "height": 75
        },
        "id": "4jv-qlKd_4CS",
        "outputId": "2340e573-c177-4314-ab06-07331d01d344"
      },
      "source": [
        "with nengo.Simulator(model) as sim:\n",
        "    sim.run(0.5)"
      ],
      "execution_count": 10,
      "outputs": [
        {
          "output_type": "display_data",
          "data": {
            "application/vdom.v1+json": {
              "attributes": {},
              "tagName": "div"
            },
            "text/plain": [
              "HtmlProgressBar cannot be displayed. Please use the TerminalProgressBar. It can be enabled with `nengo.rc['progress']['progress_bar'] = 'nengo.utils.progress.TerminalProgressBar'`."
            ],
            "text/html": [
              "\n",
              "                <script>\n",
              "                    if (Jupyter.version.split(\".\")[0] < 5) {\n",
              "                        var pb = document.getElementById(\"3784c392-6ad6-48e8-969f-b82d8592ab35\");\n",
              "                        var text = document.createTextNode(\n",
              "                            \"HMTL progress bar requires Jupyter Notebook >= \" +\n",
              "                            \"5.0 or Jupyter Lab. Alternatively, you can use \" +\n",
              "                            \"TerminalProgressBar().\");\n",
              "                        pb.parentNode.insertBefore(text, pb);\n",
              "                    }\n",
              "                </script>\n",
              "                <div id=\"3784c392-6ad6-48e8-969f-b82d8592ab35\" style=\"\n",
              "                    width: 100%;\n",
              "                    border: 1px solid #cfcfcf;\n",
              "                    border-radius: 4px;\n",
              "                    text-align: center;\n",
              "                    position: relative;\">\n",
              "                  <div class=\"pb-text\" style=\"\n",
              "                      position: absolute;\n",
              "                      width: 100%;\">\n",
              "                    0%\n",
              "                  </div>\n",
              "                  <div class=\"pb-fill\" style=\"\n",
              "                      background-color: #bdd2e6;\n",
              "                      width: 0%;\">\n",
              "                    <style type=\"text/css\" scoped=\"scoped\">\n",
              "                        @keyframes pb-fill-anim {\n",
              "                            0% { background-position: 0 0; }\n",
              "                            100% { background-position: 100px 0; }\n",
              "                        }\n",
              "                    </style>\n",
              "                    &nbsp;\n",
              "                  </div>\n",
              "                </div>"
            ]
          },
          "metadata": {}
        },
        {
          "output_type": "display_data",
          "data": {
            "application/vdom.v1+json": {
              "attributes": {
                "style": {
                  "boxSizing": "border-box",
                  "width": "100%",
                  "position": "relative",
                  "border": "1px solid #cfcfcf",
                  "textAlign": "center",
                  "borderRadius": "4px"
                },
                "id": "6b5bc77a-f9c6-421d-b920-8cb8ea41d63b"
              },
              "children": [
                {
                  "attributes": {
                    "style": {
                      "position": "absolute",
                      "width": "100%"
                    },
                    "class": "pb-text"
                  },
                  "children": [
                    "Build finished in 0:00:01."
                  ],
                  "tagName": "div"
                },
                {
                  "attributes": {
                    "style": {
                      "width": "100%",
                      "animation": "none",
                      "backgroundImage": "none",
                      "backgroundColor": "#bdd2e6",
                      "backgroundSize": "100px 100%"
                    },
                    "class": "pb-fill"
                  },
                  "children": [
                    {
                      "attributes": {
                        "type": "text/css",
                        "scoped": "scoped"
                      },
                      "children": [
                        "\n                        @keyframes pb-fill-anim {\n                            0% { background-position: 0 0; }\n                            100% { background-position: 100px 0; }\n                        }}"
                      ],
                      "tagName": "style"
                    },
                    " "
                  ],
                  "tagName": "div"
                }
              ],
              "tagName": "div"
            },
            "text/html": [
              "<script>\n",
              "              (function () {\n",
              "                  var root = document.getElementById('3784c392-6ad6-48e8-969f-b82d8592ab35');\n",
              "                  var text = root.getElementsByClassName('pb-text')[0];\n",
              "                  var fill = root.getElementsByClassName('pb-fill')[0];\n",
              "\n",
              "                  text.innerHTML = 'Build finished in 0:00:01.';\n",
              "                  \n",
              "            fill.style.width = '100%';\n",
              "            fill.style.animation = 'pb-fill-anim 2s linear infinite';\n",
              "            fill.style.backgroundSize = '100px 100%';\n",
              "            fill.style.backgroundImage = 'repeating-linear-gradient(' +\n",
              "                '90deg, #bdd2e6, #edf2f8 40%, #bdd2e6 80%, #bdd2e6)';\n",
              "        \n",
              "                  \n",
              "                fill.style.animation = 'none';\n",
              "                fill.style.backgroundImage = 'none';\n",
              "            \n",
              "              })();\n",
              "        </script>"
            ]
          },
          "metadata": {}
        },
        {
          "output_type": "display_data",
          "data": {
            "application/vdom.v1+json": {
              "attributes": {},
              "tagName": "div"
            },
            "text/plain": [
              "HtmlProgressBar cannot be displayed. Please use the TerminalProgressBar. It can be enabled with `nengo.rc['progress']['progress_bar'] = 'nengo.utils.progress.TerminalProgressBar'`."
            ],
            "text/html": [
              "\n",
              "                <script>\n",
              "                    if (Jupyter.version.split(\".\")[0] < 5) {\n",
              "                        var pb = document.getElementById(\"714ffcfd-4d57-423d-8c10-cfbb75ed61f3\");\n",
              "                        var text = document.createTextNode(\n",
              "                            \"HMTL progress bar requires Jupyter Notebook >= \" +\n",
              "                            \"5.0 or Jupyter Lab. Alternatively, you can use \" +\n",
              "                            \"TerminalProgressBar().\");\n",
              "                        pb.parentNode.insertBefore(text, pb);\n",
              "                    }\n",
              "                </script>\n",
              "                <div id=\"714ffcfd-4d57-423d-8c10-cfbb75ed61f3\" style=\"\n",
              "                    width: 100%;\n",
              "                    border: 1px solid #cfcfcf;\n",
              "                    border-radius: 4px;\n",
              "                    text-align: center;\n",
              "                    position: relative;\">\n",
              "                  <div class=\"pb-text\" style=\"\n",
              "                      position: absolute;\n",
              "                      width: 100%;\">\n",
              "                    0%\n",
              "                  </div>\n",
              "                  <div class=\"pb-fill\" style=\"\n",
              "                      background-color: #bdd2e6;\n",
              "                      width: 0%;\">\n",
              "                    <style type=\"text/css\" scoped=\"scoped\">\n",
              "                        @keyframes pb-fill-anim {\n",
              "                            0% { background-position: 0 0; }\n",
              "                            100% { background-position: 100px 0; }\n",
              "                        }\n",
              "                    </style>\n",
              "                    &nbsp;\n",
              "                  </div>\n",
              "                </div>"
            ]
          },
          "metadata": {}
        },
        {
          "output_type": "display_data",
          "data": {
            "application/vdom.v1+json": {
              "attributes": {
                "style": {
                  "boxSizing": "border-box",
                  "width": "100%",
                  "position": "relative",
                  "border": "1px solid #cfcfcf",
                  "textAlign": "center",
                  "borderRadius": "4px"
                },
                "id": "fe853476-e085-4c6a-9961-db030f4598ad"
              },
              "children": [
                {
                  "attributes": {
                    "style": {
                      "position": "absolute",
                      "width": "100%"
                    },
                    "class": "pb-text"
                  },
                  "children": [
                    "Simulation finished in 0:00:01."
                  ],
                  "tagName": "div"
                },
                {
                  "attributes": {
                    "style": {
                      "width": "100%",
                      "animation": "none",
                      "backgroundImage": "none",
                      "backgroundColor": "#bdd2e6",
                      "transition": "width 0.1s linear"
                    },
                    "class": "pb-fill"
                  },
                  "children": [
                    {
                      "attributes": {
                        "type": "text/css",
                        "scoped": "scoped"
                      },
                      "children": [
                        "\n                        @keyframes pb-fill-anim {\n                            0% { background-position: 0 0; }\n                            100% { background-position: 100px 0; }\n                        }}"
                      ],
                      "tagName": "style"
                    },
                    " "
                  ],
                  "tagName": "div"
                }
              ],
              "tagName": "div"
            },
            "text/html": [
              "<script>\n",
              "              (function () {\n",
              "                  var root = document.getElementById('714ffcfd-4d57-423d-8c10-cfbb75ed61f3');\n",
              "                  var text = root.getElementsByClassName('pb-text')[0];\n",
              "                  var fill = root.getElementsByClassName('pb-fill')[0];\n",
              "\n",
              "                  text.innerHTML = 'Simulation finished in 0:00:01.';\n",
              "                  \n",
              "            if (100.0 > 0.) {\n",
              "                fill.style.transition = 'width 0.1s linear';\n",
              "            } else {\n",
              "                fill.style.transition = 'none';\n",
              "            }\n",
              "\n",
              "            fill.style.width = '100.0%';\n",
              "            fill.style.animation = 'none';\n",
              "            fill.style.backgroundImage = 'none'\n",
              "        \n",
              "                  \n",
              "                fill.style.animation = 'none';\n",
              "                fill.style.backgroundImage = 'none';\n",
              "            \n",
              "              })();\n",
              "        </script>"
            ]
          },
          "metadata": {}
        }
      ]
    },
    {
      "cell_type": "code",
      "metadata": {
        "colab": {
          "base_uri": "https://localhost:8080/",
          "height": 295
        },
        "id": "eddEm9y-_7ru",
        "outputId": "576f9400-3a4b-4c1c-aec1-ef3091bfae18"
      },
      "source": [
        "plt.plot(sim.trange(), spa.similarity(sim.data[p], vocab2), label=\"vocab2\")\n",
        "plt.xlabel(\"Time [s]\")\n",
        "plt.ylabel(\"Similarity\")\n",
        "plt.legend(loc=\"best\")"
      ],
      "execution_count": 11,
      "outputs": [
        {
          "output_type": "execute_result",
          "data": {
            "text/plain": [
              "<matplotlib.legend.Legend at 0x7f7778fbc790>"
            ]
          },
          "metadata": {},
          "execution_count": 11
        },
        {
          "output_type": "display_data",
          "data": {
            "image/png": "[encoded data removed]",
            "text/plain": [
              "<Figure size 432x288 with 1 Axes>"
            ]
          },
          "metadata": {
            "needs_background": "light"
          }
        }
      ]
    }
  ]
}