{
  "nbformat": 4,
  "nbformat_minor": 0,
  "metadata": {
    "colab": {
      "name": "Untitled27.ipynb",
      "provenance": []
    },
    "kernelspec": {
      "name": "python3",
      "display_name": "Python 3"
    },
    "language_info": {
      "name": "python"
    }
  },
  "cells": [
    {
      "cell_type": "code",
      "metadata": {
        "colab": {
          "base_uri": "https://localhost:8080/"
        },
        "id": "jsEwcsd7_NtP",
        "outputId": "e96db5d6-8790-4cdd-8cc2-d3270cd61742"
      },
      "source": [
        "!pip install nengo"
      ],
      "execution_count": 1,
      "outputs": [
        {
          "output_type": "stream",
          "name": "stdout",
          "text": [
            "Collecting nengo\n",
            "  Downloading nengo-3.1.0-py3-none-any.whl (523 kB)\n",
            "\u001b[?25l\r\u001b[K     |▋                               | 10 kB 19.7 MB/s eta 0:00:01\r\u001b[K     |█▎                              | 20 kB 9.4 MB/s eta 0:00:01\r\u001b[K     |█▉                              | 30 kB 7.4 MB/s eta 0:00:01\r\u001b[K     |██▌                             | 40 kB 6.8 MB/s eta 0:00:01\r\u001b[K     |███▏                            | 51 kB 4.2 MB/s eta 0:00:01\r\u001b[K     |███▊                            | 61 kB 4.4 MB/s eta 0:00:01\r\u001b[K     |████▍                           | 71 kB 4.4 MB/s eta 0:00:01\r\u001b[K     |█████                           | 81 kB 4.9 MB/s eta 0:00:01\r\u001b[K     |█████▋                          | 92 kB 4.9 MB/s eta 0:00:01\r\u001b[K     |██████▎                         | 102 kB 4.2 MB/s eta 0:00:01\r\u001b[K     |██████▉                         | 112 kB 4.2 MB/s eta 0:00:01\r\u001b[K     |███████▌                        | 122 kB 4.2 MB/s eta 0:00:01\r\u001b[K     |████████▏                       | 133 kB 4.2 MB/s eta 0:00:01\r\u001b[K     |████████▊                       | 143 kB 4.2 MB/s eta 0:00:01\r\u001b[K     |█████████▍                      | 153 kB 4.2 MB/s eta 0:00:01\r\u001b[K     |██████████                      | 163 kB 4.2 MB/s eta 0:00:01\r\u001b[K     |██████████▋                     | 174 kB 4.2 MB/s eta 0:00:01\r\u001b[K     |███████████▎                    | 184 kB 4.2 MB/s eta 0:00:01\r\u001b[K     |████████████                    | 194 kB 4.2 MB/s eta 0:00:01\r\u001b[K     |████████████▌                   | 204 kB 4.2 MB/s eta 0:00:01\r\u001b[K     |█████████████▏                  | 215 kB 4.2 MB/s eta 0:00:01\r\u001b[K     |█████████████▊                  | 225 kB 4.2 MB/s eta 0:00:01\r\u001b[K     |██████████████▍                 | 235 kB 4.2 MB/s eta 0:00:01\r\u001b[K     |███████████████                 | 245 kB 4.2 MB/s eta 0:00:01\r\u001b[K     |███████████████▋                | 256 kB 4.2 MB/s eta 0:00:01\r\u001b[K     |████████████████▎               | 266 kB 4.2 MB/s eta 0:00:01\r\u001b[K     |█████████████████               | 276 kB 4.2 MB/s eta 0:00:01\r\u001b[K     |█████████████████▌              | 286 kB 4.2 MB/s eta 0:00:01\r\u001b[K     |██████████████████▏             | 296 kB 4.2 MB/s eta 0:00:01\r\u001b[K     |██████████████████▉             | 307 kB 4.2 MB/s eta 0:00:01\r\u001b[K     |███████████████████▍            | 317 kB 4.2 MB/s eta 0:00:01\r\u001b[K     |████████████████████            | 327 kB 4.2 MB/s eta 0:00:01\r\u001b[K     |████████████████████▋           | 337 kB 4.2 MB/s eta 0:00:01\r\u001b[K     |█████████████████████▎          | 348 kB 4.2 MB/s eta 0:00:01\r\u001b[K     |██████████████████████          | 358 kB 4.2 MB/s eta 0:00:01\r\u001b[K     |██████████████████████▌         | 368 kB 4.2 MB/s eta 0:00:01\r\u001b[K     |███████████████████████▏        | 378 kB 4.2 MB/s eta 0:00:01\r\u001b[K     |███████████████████████▉        | 389 kB 4.2 MB/s eta 0:00:01\r\u001b[K     |████████████████████████▍       | 399 kB 4.2 MB/s eta 0:00:01\r\u001b[K     |█████████████████████████       | 409 kB 4.2 MB/s eta 0:00:01\r\u001b[K     |█████████████████████████▊      | 419 kB 4.2 MB/s eta 0:00:01\r\u001b[K     |██████████████████████████▎     | 430 kB 4.2 MB/s eta 0:00:01\r\u001b[K     |███████████████████████████     | 440 kB 4.2 MB/s eta 0:00:01\r\u001b[K     |███████████████████████████▌    | 450 kB 4.2 MB/s eta 0:00:01\r\u001b[K     |████████████████████████████▏   | 460 kB 4.2 MB/s eta 0:00:01\r\u001b[K     |████████████████████████████▉   | 471 kB 4.2 MB/s eta 0:00:01\r\u001b[K     |█████████████████████████████▍  | 481 kB 4.2 MB/s eta 0:00:01\r\u001b[K     |██████████████████████████████  | 491 kB 4.2 MB/s eta 0:00:01\r\u001b[K     |██████████████████████████████▊ | 501 kB 4.2 MB/s eta 0:00:01\r\u001b[K     |███████████████████████████████▎| 512 kB 4.2 MB/s eta 0:00:01\r\u001b[K     |████████████████████████████████| 522 kB 4.2 MB/s eta 0:00:01\r\u001b[K     |████████████████████████████████| 523 kB 4.2 MB/s \n",
            "\u001b[?25hRequirement already satisfied: numpy>=1.13 in /usr/local/lib/python3.7/dist-packages (from nengo) (1.19.5)\n",
            "Installing collected packages: nengo\n",
            "Successfully installed nengo-3.1.0\n"
          ]
        }
      ]
    },
    {
      "cell_type": "code",
      "metadata": {
        "id": "1EbNrgHJ_UjN"
      },
      "source": [
        "%matplotlib inline\n",
        "import matplotlib.pyplot as plt\n",
        "import numpy as np\n",
        "\n",
        "import nengo\n",
        "\n",
        "model = nengo.Network(label=\"2D Representation\")\n",
        "with model:\n",
        "    # Our ensemble consists of 100 leaky integrate-and-fire neurons,\n",
        "    # and represents a 2-dimensional signal\n",
        "    neurons = nengo.Ensemble(100, dimensions=2)"
      ],
      "execution_count": 2,
      "outputs": []
    },
    {
      "cell_type": "code",
      "metadata": {
        "id": "gegm-0iO_WIU"
      },
      "source": [
        "with model:\n",
        "    # Create input nodes representing the sine and cosine\n",
        "    sin = nengo.Node(output=np.sin)\n",
        "    cos = nengo.Node(output=np.cos)"
      ],
      "execution_count": 3,
      "outputs": []
    },
    {
      "cell_type": "code",
      "metadata": {
        "id": "npO76uHV_cMb"
      },
      "source": [
        "with model:\n",
        "    # The indices in neurons define which dimension the input will project to\n",
        "    nengo.Connection(sin, neurons[0])\n",
        "    nengo.Connection(cos, neurons[1])"
      ],
      "execution_count": 4,
      "outputs": []
    },
    {
      "cell_type": "code",
      "metadata": {
        "id": "JI1B-5bg_gz-"
      },
      "source": [
        "with model:\n",
        "    sin_probe = nengo.Probe(sin, \"output\")\n",
        "    cos_probe = nengo.Probe(cos, \"output\")\n",
        "    neurons_probe = nengo.Probe(neurons, \"decoded_output\", synapse=0.01)"
      ],
      "execution_count": 5,
      "outputs": []
    },
    {
      "cell_type": "code",
      "metadata": {
        "colab": {
          "base_uri": "https://localhost:8080/",
          "height": 75
        },
        "id": "tZoP4RYF_nOb",
        "outputId": "c8e8b840-d7d8-4369-8bfe-607054143a06"
      },
      "source": [
        "with nengo.Simulator(model) as sim:\n",
        "    sim.run(5)"
      ],
      "execution_count": 6,
      "outputs": [
        {
          "output_type": "display_data",
          "data": {
            "application/vdom.v1+json": {
              "attributes": {},
              "tagName": "div"
            },
            "text/plain": [
              "HtmlProgressBar cannot be displayed. Please use the TerminalProgressBar. It can be enabled with `nengo.rc['progress']['progress_bar'] = 'nengo.utils.progress.TerminalProgressBar'`."
            ],
            "text/html": [
              "\n",
              "                <script>\n",
              "                    if (Jupyter.version.split(\".\")[0] < 5) {\n",
              "                        var pb = document.getElementById(\"d88f649d-f7c6-4fcb-b015-45e2695d2784\");\n",
              "                        var text = document.createTextNode(\n",
              "                            \"HMTL progress bar requires Jupyter Notebook >= \" +\n",
              "                            \"5.0 or Jupyter Lab. Alternatively, you can use \" +\n",
              "                            \"TerminalProgressBar().\");\n",
              "                        pb.parentNode.insertBefore(text, pb);\n",
              "                    }\n",
              "                </script>\n",
              "                <div id=\"d88f649d-f7c6-4fcb-b015-45e2695d2784\" style=\"\n",
              "                    width: 100%;\n",
              "                    border: 1px solid #cfcfcf;\n",
              "                    border-radius: 4px;\n",
              "                    text-align: center;\n",
              "                    position: relative;\">\n",
              "                  <div class=\"pb-text\" style=\"\n",
              "                      position: absolute;\n",
              "                      width: 100%;\">\n",
              "                    0%\n",
              "                  </div>\n",
              "                  <div class=\"pb-fill\" style=\"\n",
              "                      background-color: #bdd2e6;\n",
              "                      width: 0%;\">\n",
              "                    <style type=\"text/css\" scoped=\"scoped\">\n",
              "                        @keyframes pb-fill-anim {\n",
              "                            0% { background-position: 0 0; }\n",
              "                            100% { background-position: 100px 0; }\n",
              "                        }\n",
              "                    </style>\n",
              "                    &nbsp;\n",
              "                  </div>\n",
              "                </div>"
            ]
          },
          "metadata": {}
        },
        {
          "output_type": "display_data",
          "data": {
            "application/vdom.v1+json": {
              "attributes": {
                "style": {
                  "boxSizing": "border-box",
                  "width": "100%",
                  "position": "relative",
                  "border": "1px solid #cfcfcf",
                  "textAlign": "center",
                  "borderRadius": "4px"
                },
                "id": "0fd770f9-7f1e-40ab-9bfe-0b2b46bc877e"
              },
              "children": [
                {
                  "attributes": {
                    "style": {
                      "position": "absolute",
                      "width": "100%"
                    },
                    "class": "pb-text"
                  },
                  "children": [
                    "Build finished in 0:00:01."
                  ],
                  "tagName": "div"
                },
                {
                  "attributes": {
                    "style": {
                      "width": "100%",
                      "animation": "none",
                      "backgroundImage": "none",
                      "backgroundColor": "#bdd2e6",
                      "backgroundSize": "100px 100%"
                    },
                    "class": "pb-fill"
                  },
                  "children": [
                    {
                      "attributes": {
                        "type": "text/css",
                        "scoped": "scoped"
                      },
                      "children": [
                        "\n                        @keyframes pb-fill-anim {\n                            0% { background-position: 0 0; }\n                            100% { background-position: 100px 0; }\n                        }}"
                      ],
                      "tagName": "style"
                    },
                    " "
                  ],
                  "tagName": "div"
                }
              ],
              "tagName": "div"
            },
            "text/html": [
              "<script>\n",
              "              (function () {\n",
              "                  var root = document.getElementById('d88f649d-f7c6-4fcb-b015-45e2695d2784');\n",
              "                  var text = root.getElementsByClassName('pb-text')[0];\n",
              "                  var fill = root.getElementsByClassName('pb-fill')[0];\n",
              "\n",
              "                  text.innerHTML = 'Build finished in 0:00:01.';\n",
              "                  \n",
              "            fill.style.width = '100%';\n",
              "            fill.style.animation = 'pb-fill-anim 2s linear infinite';\n",
              "            fill.style.backgroundSize = '100px 100%';\n",
              "            fill.style.backgroundImage = 'repeating-linear-gradient(' +\n",
              "                '90deg, #bdd2e6, #edf2f8 40%, #bdd2e6 80%, #bdd2e6)';\n",
              "        \n",
              "                  \n",
              "                fill.style.animation = 'none';\n",
              "                fill.style.backgroundImage = 'none';\n",
              "            \n",
              "              })();\n",
              "        </script>"
            ]
          },
          "metadata": {}
        },
        {
          "output_type": "display_data",
          "data": {
            "application/vdom.v1+json": {
              "attributes": {},
              "tagName": "div"
            },
            "text/plain": [
              "HtmlProgressBar cannot be displayed. Please use the TerminalProgressBar. It can be enabled with `nengo.rc['progress']['progress_bar'] = 'nengo.utils.progress.TerminalProgressBar'`."
            ],
            "text/html": [
              "\n",
              "                <script>\n",
              "                    if (Jupyter.version.split(\".\")[0] < 5) {\n",
              "                        var pb = document.getElementById(\"466e47eb-2b48-4f45-b1c4-2c54e5fd28bc\");\n",
              "                        var text = document.createTextNode(\n",
              "                            \"HMTL progress bar requires Jupyter Notebook >= \" +\n",
              "                            \"5.0 or Jupyter Lab. Alternatively, you can use \" +\n",
              "                            \"TerminalProgressBar().\");\n",
              "                        pb.parentNode.insertBefore(text, pb);\n",
              "                    }\n",
              "                </script>\n",
              "                <div id=\"466e47eb-2b48-4f45-b1c4-2c54e5fd28bc\" style=\"\n",
              "                    width: 100%;\n",
              "                    border: 1px solid #cfcfcf;\n",
              "                    border-radius: 4px;\n",
              "                    text-align: center;\n",
              "                    position: relative;\">\n",
              "                  <div class=\"pb-text\" style=\"\n",
              "                      position: absolute;\n",
              "                      width: 100%;\">\n",
              "                    0%\n",
              "                  </div>\n",
              "                  <div class=\"pb-fill\" style=\"\n",
              "                      background-color: #bdd2e6;\n",
              "                      width: 0%;\">\n",
              "                    <style type=\"text/css\" scoped=\"scoped\">\n",
              "                        @keyframes pb-fill-anim {\n",
              "                            0% { background-position: 0 0; }\n",
              "                            100% { background-position: 100px 0; }\n",
              "                        }\n",
              "                    </style>\n",
              "                    &nbsp;\n",
              "                  </div>\n",
              "                </div>"
            ]
          },
          "metadata": {}
        },
        {
          "output_type": "display_data",
          "data": {
            "application/vdom.v1+json": {
              "attributes": {
                "style": {
                  "boxSizing": "border-box",
                  "width": "100%",
                  "position": "relative",
                  "border": "1px solid #cfcfcf",
                  "textAlign": "center",
                  "borderRadius": "4px"
                },
                "id": "d25d2c2a-63ac-4388-a473-09d1bda557f3"
              },
              "children": [
                {
                  "attributes": {
                    "style": {
                      "position": "absolute",
                      "width": "100%"
                    },
                    "class": "pb-text"
                  },
                  "children": [
                    "Simulation finished in 0:00:01."
                  ],
                  "tagName": "div"
                },
                {
                  "attributes": {
                    "style": {
                      "width": "100%",
                      "animation": "none",
                      "backgroundImage": "none",
                      "backgroundColor": "#bdd2e6",
                      "transition": "width 0.1s linear"
                    },
                    "class": "pb-fill"
                  },
                  "children": [
                    {
                      "attributes": {
                        "type": "text/css",
                        "scoped": "scoped"
                      },
                      "children": [
                        "\n                        @keyframes pb-fill-anim {\n                            0% { background-position: 0 0; }\n                            100% { background-position: 100px 0; }\n                        }}"
                      ],
                      "tagName": "style"
                    },
                    " "
                  ],
                  "tagName": "div"
                }
              ],
              "tagName": "div"
            },
            "text/html": [
              "<script>\n",
              "              (function () {\n",
              "                  var root = document.getElementById('466e47eb-2b48-4f45-b1c4-2c54e5fd28bc');\n",
              "                  var text = root.getElementsByClassName('pb-text')[0];\n",
              "                  var fill = root.getElementsByClassName('pb-fill')[0];\n",
              "\n",
              "                  text.innerHTML = 'Simulation finished in 0:00:01.';\n",
              "                  \n",
              "            if (100.0 > 0.) {\n",
              "                fill.style.transition = 'width 0.1s linear';\n",
              "            } else {\n",
              "                fill.style.transition = 'none';\n",
              "            }\n",
              "\n",
              "            fill.style.width = '100.0%';\n",
              "            fill.style.animation = 'none';\n",
              "            fill.style.backgroundImage = 'none'\n",
              "        \n",
              "                  \n",
              "                fill.style.animation = 'none';\n",
              "                fill.style.backgroundImage = 'none';\n",
              "            \n",
              "              })();\n",
              "        </script>"
            ]
          },
          "metadata": {}
        }
      ]
    },
    {
      "cell_type": "code",
      "metadata": {
        "colab": {
          "base_uri": "https://localhost:8080/",
          "height": 295
        },
        "id": "qL-SdQ9j_q6E",
        "outputId": "b801825e-028b-429c-d932-d4f23c837a5b"
      },
      "source": [
        "# Plot the decoded output of the ensemble\n",
        "plt.figure()\n",
        "plt.plot(sim.trange(), sim.data[neurons_probe], label=\"Decoded output\")\n",
        "plt.plot(sim.trange(), sim.data[sin_probe], \"r\", label=\"Sine\")\n",
        "plt.plot(sim.trange(), sim.data[cos_probe], \"k\", label=\"Cosine\")\n",
        "plt.legend()\n",
        "plt.xlabel(\"time [s]\")"
      ],
      "execution_count": 7,
      "outputs": [
        {
          "output_type": "execute_result",
          "data": {
            "text/plain": [
              "Text(0.5, 0, 'time [s]')"
            ]
          },
          "metadata": {},
          "execution_count": 7
        },
        {
          "output_type": "display_data",
          "data": {
            "image/png": "[encoded data removed]",
            "text/plain": [
              "<Figure size 432x288 with 1 Axes>"
            ]
          },
          "metadata": {
            "needs_background": "light"
          }
        }
      ]
    }
  ]
}